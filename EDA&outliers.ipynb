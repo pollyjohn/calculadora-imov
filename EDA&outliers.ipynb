{
 "cells": [
  {
   "cell_type": "markdown",
   "id": "02d78d64-0195-42c6-84c9-e11374286b92",
   "metadata": {},
   "source": [
    "*EDA*"
   ]
  },
  {
   "cell_type": "code",
   "execution_count": 1,
   "id": "8f2f4ece-7c75-436d-9e28-3482713d1e04",
   "metadata": {},
   "outputs": [],
   "source": [
    "import pandas as pd\n",
    "import numpy as np\n",
    "import seaborn as sns\n",
    "import matplotlib.pyplot as plt"
   ]
  },
  {
   "cell_type": "code",
   "execution_count": 47,
   "id": "18f8f7e4-0071-42a1-b724-f5209b377b3d",
   "metadata": {},
   "outputs": [],
   "source": [
    "df = pd.read_csv(\"esseaqi.csv\")"
   ]
  },
  {
   "cell_type": "code",
   "execution_count": 116,
   "id": "2decd002-ed60-4d78-82da-868d6d6825d0",
   "metadata": {},
   "outputs": [
    {
     "data": {
      "text/html": [
       "<div>\n",
       "<style scoped>\n",
       "    .dataframe tbody tr th:only-of-type {\n",
       "        vertical-align: middle;\n",
       "    }\n",
       "\n",
       "    .dataframe tbody tr th {\n",
       "        vertical-align: top;\n",
       "    }\n",
       "\n",
       "    .dataframe thead th {\n",
       "        text-align: right;\n",
       "    }\n",
       "</style>\n",
       "<table border=\"1\" class=\"dataframe\">\n",
       "  <thead>\n",
       "    <tr style=\"text-align: right;\">\n",
       "      <th></th>\n",
       "      <th>0</th>\n",
       "      <th>1</th>\n",
       "      <th>2</th>\n",
       "      <th>3</th>\n",
       "      <th>4</th>\n",
       "      <th>5</th>\n",
       "      <th>6</th>\n",
       "      <th>7</th>\n",
       "      <th>8</th>\n",
       "      <th>9</th>\n",
       "      <th>...</th>\n",
       "      <th>15246</th>\n",
       "      <th>15247</th>\n",
       "      <th>15248</th>\n",
       "      <th>15249</th>\n",
       "      <th>15250</th>\n",
       "      <th>15251</th>\n",
       "      <th>15252</th>\n",
       "      <th>15253</th>\n",
       "      <th>15254</th>\n",
       "      <th>15255</th>\n",
       "    </tr>\n",
       "  </thead>\n",
       "  <tbody>\n",
       "    <tr>\n",
       "      <th>id</th>\n",
       "      <td>2472650173</td>\n",
       "      <td>2510654835</td>\n",
       "      <td>2511557601</td>\n",
       "      <td>2522220295</td>\n",
       "      <td>2516069997</td>\n",
       "      <td>2514753785</td>\n",
       "      <td>2492392118</td>\n",
       "      <td>2516584682</td>\n",
       "      <td>2515567739</td>\n",
       "      <td>2485030080</td>\n",
       "      <td>...</td>\n",
       "      <td>2512290389</td>\n",
       "      <td>2518873917</td>\n",
       "      <td>2520837438</td>\n",
       "      <td>2509043980</td>\n",
       "      <td>2498443199</td>\n",
       "      <td>2517456409</td>\n",
       "      <td>2512290679</td>\n",
       "      <td>2475025733</td>\n",
       "      <td>2519981464</td>\n",
       "      <td>2514394292</td>\n",
       "    </tr>\n",
       "    <tr>\n",
       "      <th>url</th>\n",
       "      <td>https://www.vivareal.com.br/imovel/apartamento...</td>\n",
       "      <td>https://www.vivareal.com.br/imovel/apartamento...</td>\n",
       "      <td>https://www.vivareal.com.br/imovel/apartamento...</td>\n",
       "      <td>https://www.vivareal.com.br/imovel/apartamento...</td>\n",
       "      <td>https://www.vivareal.com.br/imovel/apartamento...</td>\n",
       "      <td>https://www.vivareal.com.br/imovel/apartamento...</td>\n",
       "      <td>https://www.vivareal.com.br/imovel/apartamento...</td>\n",
       "      <td>https://www.vivareal.com.br/imovel/apartamento...</td>\n",
       "      <td>https://www.vivareal.com.br/imovel/apartamento...</td>\n",
       "      <td>https://www.vivareal.com.br/imovel/apartamento...</td>\n",
       "      <td>...</td>\n",
       "      <td>https://www.vivareal.com.br/imovel/apartamento...</td>\n",
       "      <td>https://www.vivareal.com.br/imovel/apartamento...</td>\n",
       "      <td>https://www.vivareal.com.br/imovel/apartamento...</td>\n",
       "      <td>https://www.vivareal.com.br/imovel/apartamento...</td>\n",
       "      <td>https://www.vivareal.com.br/imovel/apartamento...</td>\n",
       "      <td>https://www.vivareal.com.br/imovel/apartamento...</td>\n",
       "      <td>https://www.vivareal.com.br/imovel/apartamento...</td>\n",
       "      <td>https://www.vivareal.com.br/imovel/apartamento...</td>\n",
       "      <td>https://www.vivareal.com.br/imovel/apartamento...</td>\n",
       "      <td>https://www.vivareal.com.br/imovel/apartamento...</td>\n",
       "    </tr>\n",
       "    <tr>\n",
       "      <th>header</th>\n",
       "      <td>Apartamento com 2 Quartos à Venda, 64m²</td>\n",
       "      <td>Apartamento com 3 Quartos à Venda, 170m²</td>\n",
       "      <td>Apartamento com 3 Quartos à Venda, 218m²</td>\n",
       "      <td>Apartamento com 3 Quartos à Venda, 116m²</td>\n",
       "      <td>Apartamento com 4 Quartos à Venda, 250m²</td>\n",
       "      <td>Apartamento com 3 Quartos à Venda, 81m²</td>\n",
       "      <td>Apartamento com 4 Quartos à Venda, 225m²</td>\n",
       "      <td>Apartamento com Quarto à Venda, 66m²</td>\n",
       "      <td>Apartamento com Quarto à Venda, 48m²</td>\n",
       "      <td>Apartamento com 3 Quartos à Venda, 197m²</td>\n",
       "      <td>...</td>\n",
       "      <td>Apartamento com Quarto à Venda, 29m²</td>\n",
       "      <td>Apartamento com 2 Quartos à Venda, 40m²</td>\n",
       "      <td>Apartamento com 2 Quartos à Venda, 42m²</td>\n",
       "      <td>Apartamento com 3 Quartos à Venda, 104m²</td>\n",
       "      <td>Apartamento com Quarto à Venda, 28m²</td>\n",
       "      <td>Apartamento com 2 Quartos à Venda, 49m²</td>\n",
       "      <td>Apartamento com Quarto à Venda, 28m²</td>\n",
       "      <td>Apartamento com 2 Quartos à Venda, 42m²</td>\n",
       "      <td>Apartamento com 3 Quartos à Venda, 122m²</td>\n",
       "      <td>Apartamento com Quarto à Venda, 55m²</td>\n",
       "    </tr>\n",
       "    <tr>\n",
       "      <th>address</th>\n",
       "      <td>Avenida Portugal, 401 - Brooklin, São Paulo - SP</td>\n",
       "      <td>Rua Pensilvânia, 742 - Brooklin, São Paulo - SP</td>\n",
       "      <td>Rua Laplace, 44 - Brooklin, São Paulo - SP</td>\n",
       "      <td>Rua Arandu, 660 - Brooklin, São Paulo - SP</td>\n",
       "      <td>Rua Flórida, 320 - Brooklin, São Paulo - SP</td>\n",
       "      <td>Rua Pássaros e Flores, 444 - Brooklin, São Pau...</td>\n",
       "      <td>Rua Arizona, 664 - Brooklin, São Paulo - SP</td>\n",
       "      <td>Rua Kansas, 1700 - Brooklin, São Paulo - SP</td>\n",
       "      <td>Rua Doutor Paschoal Imperatriz, 105 - Brooklin...</td>\n",
       "      <td>Rua Nova York, 161 - Brooklin, São Paulo - SP</td>\n",
       "      <td>...</td>\n",
       "      <td>Tucuruvi, São Paulo - SP</td>\n",
       "      <td>Tucuruvi, São Paulo - SP</td>\n",
       "      <td>Rua Baltazar de Morais - Tucuruvi, São Paulo - SP</td>\n",
       "      <td>Avenida Tucuruvi - Tucuruvi, São Paulo - SP</td>\n",
       "      <td>Rua Baraqueçaba - Tucuruvi, São Paulo - SP</td>\n",
       "      <td>Avenida Mazzei - Tucuruvi, São Paulo - SP</td>\n",
       "      <td>Tucuruvi, São Paulo - SP</td>\n",
       "      <td>Rua Jeruaba - Tucuruvi, São Paulo - SP</td>\n",
       "      <td>Rua Paulo Maldi - Tucuruvi, São Paulo - SP</td>\n",
       "      <td>Avenida Nova Cantareira, 100 - Tucuruvi, São P...</td>\n",
       "    </tr>\n",
       "    <tr>\n",
       "      <th>area</th>\n",
       "      <td>64</td>\n",
       "      <td>170</td>\n",
       "      <td>218</td>\n",
       "      <td>116</td>\n",
       "      <td>250</td>\n",
       "      <td>81</td>\n",
       "      <td>225</td>\n",
       "      <td>66</td>\n",
       "      <td>48</td>\n",
       "      <td>197</td>\n",
       "      <td>...</td>\n",
       "      <td>29</td>\n",
       "      <td>40</td>\n",
       "      <td>42</td>\n",
       "      <td>104</td>\n",
       "      <td>28</td>\n",
       "      <td>49</td>\n",
       "      <td>28</td>\n",
       "      <td>42</td>\n",
       "      <td>122</td>\n",
       "      <td>55</td>\n",
       "    </tr>\n",
       "    <tr>\n",
       "      <th>...</th>\n",
       "      <td>...</td>\n",
       "      <td>...</td>\n",
       "      <td>...</td>\n",
       "      <td>...</td>\n",
       "      <td>...</td>\n",
       "      <td>...</td>\n",
       "      <td>...</td>\n",
       "      <td>...</td>\n",
       "      <td>...</td>\n",
       "      <td>...</td>\n",
       "      <td>...</td>\n",
       "      <td>...</td>\n",
       "      <td>...</td>\n",
       "      <td>...</td>\n",
       "      <td>...</td>\n",
       "      <td>...</td>\n",
       "      <td>...</td>\n",
       "      <td>...</td>\n",
       "      <td>...</td>\n",
       "      <td>...</td>\n",
       "      <td>...</td>\n",
       "    </tr>\n",
       "    <tr>\n",
       "      <th>parse_bairro</th>\n",
       "      <td>brooklin</td>\n",
       "      <td>brooklin</td>\n",
       "      <td>brooklin</td>\n",
       "      <td>brooklin</td>\n",
       "      <td>brooklin</td>\n",
       "      <td>brooklin</td>\n",
       "      <td>brooklin</td>\n",
       "      <td>brooklin</td>\n",
       "      <td>brooklin</td>\n",
       "      <td>brooklin</td>\n",
       "      <td>...</td>\n",
       "      <td>tucuruvi</td>\n",
       "      <td>tucuruvi</td>\n",
       "      <td>tucuruvi</td>\n",
       "      <td>tucuruvi</td>\n",
       "      <td>tucuruvi</td>\n",
       "      <td>tucuruvi</td>\n",
       "      <td>tucuruvi</td>\n",
       "      <td>tucuruvi</td>\n",
       "      <td>tucuruvi</td>\n",
       "      <td>tucuruvi</td>\n",
       "    </tr>\n",
       "    <tr>\n",
       "      <th>lat</th>\n",
       "      <td>-23.612983</td>\n",
       "      <td>-23.612118</td>\n",
       "      <td>-23.624983</td>\n",
       "      <td>-23.606832</td>\n",
       "      <td>-23.61523</td>\n",
       "      <td>-23.622278</td>\n",
       "      <td>-23.613975</td>\n",
       "      <td>-23.59962</td>\n",
       "      <td>-23.620634</td>\n",
       "      <td>-23.615818</td>\n",
       "      <td>...</td>\n",
       "      <td>-23.473904</td>\n",
       "      <td>-23.473904</td>\n",
       "      <td>-23.47795</td>\n",
       "      <td>-23.477859</td>\n",
       "      <td>-23.480098</td>\n",
       "      <td>-23.473748</td>\n",
       "      <td>-23.473904</td>\n",
       "      <td>-23.472761</td>\n",
       "      <td>-23.483614</td>\n",
       "      <td>-23.488428</td>\n",
       "    </tr>\n",
       "    <tr>\n",
       "      <th>lon</th>\n",
       "      <td>-46.67955</td>\n",
       "      <td>-46.685606</td>\n",
       "      <td>-46.685161</td>\n",
       "      <td>-46.690248</td>\n",
       "      <td>-46.683582</td>\n",
       "      <td>-46.689713</td>\n",
       "      <td>-46.688229</td>\n",
       "      <td>-46.689701</td>\n",
       "      <td>-46.695495</td>\n",
       "      <td>-46.685822</td>\n",
       "      <td>...</td>\n",
       "      <td>-46.610817</td>\n",
       "      <td>-46.610817</td>\n",
       "      <td>-46.589681</td>\n",
       "      <td>-46.609736</td>\n",
       "      <td>-46.605477</td>\n",
       "      <td>-46.601172</td>\n",
       "      <td>-46.610817</td>\n",
       "      <td>-46.595993</td>\n",
       "      <td>-46.611336</td>\n",
       "      <td>-46.623384</td>\n",
       "    </tr>\n",
       "    <tr>\n",
       "      <th>log_price</th>\n",
       "      <td>13.480038</td>\n",
       "      <td>14.53335</td>\n",
       "      <td>14.739769</td>\n",
       "      <td>14.187074</td>\n",
       "      <td>15.250595</td>\n",
       "      <td>13.586097</td>\n",
       "      <td>15.065412</td>\n",
       "      <td>13.981025</td>\n",
       "      <td>13.428376</td>\n",
       "      <td>14.978661</td>\n",
       "      <td>...</td>\n",
       "      <td>12.003577</td>\n",
       "      <td>12.480711</td>\n",
       "      <td>12.594731</td>\n",
       "      <td>13.296317</td>\n",
       "      <td>12.149502</td>\n",
       "      <td>13.038982</td>\n",
       "      <td>12.096883</td>\n",
       "      <td>12.409013</td>\n",
       "      <td>13.972514</td>\n",
       "      <td>12.733755</td>\n",
       "    </tr>\n",
       "    <tr>\n",
       "      <th>price_cut</th>\n",
       "      <td>NaN</td>\n",
       "      <td>NaN</td>\n",
       "      <td>NaN</td>\n",
       "      <td>NaN</td>\n",
       "      <td>NaN</td>\n",
       "      <td>NaN</td>\n",
       "      <td>NaN</td>\n",
       "      <td>NaN</td>\n",
       "      <td>NaN</td>\n",
       "      <td>NaN</td>\n",
       "      <td>...</td>\n",
       "      <td>NaN</td>\n",
       "      <td>NaN</td>\n",
       "      <td>NaN</td>\n",
       "      <td>NaN</td>\n",
       "      <td>NaN</td>\n",
       "      <td>NaN</td>\n",
       "      <td>NaN</td>\n",
       "      <td>NaN</td>\n",
       "      <td>NaN</td>\n",
       "      <td>NaN</td>\n",
       "    </tr>\n",
       "  </tbody>\n",
       "</table>\n",
       "<p>102 rows × 15256 columns</p>\n",
       "</div>"
      ],
      "text/plain": [
       "                                                          0      \\\n",
       "id                                                   2472650173   \n",
       "url           https://www.vivareal.com.br/imovel/apartamento...   \n",
       "header                  Apartamento com 2 Quartos à Venda, 64m²   \n",
       "address        Avenida Portugal, 401 - Brooklin, São Paulo - SP   \n",
       "area                                                         64   \n",
       "...                                                         ...   \n",
       "parse_bairro                                           brooklin   \n",
       "lat                                                  -23.612983   \n",
       "lon                                                   -46.67955   \n",
       "log_price                                             13.480038   \n",
       "price_cut                                                   NaN   \n",
       "\n",
       "                                                          1      \\\n",
       "id                                                   2510654835   \n",
       "url           https://www.vivareal.com.br/imovel/apartamento...   \n",
       "header                 Apartamento com 3 Quartos à Venda, 170m²   \n",
       "address         Rua Pensilvânia, 742 - Brooklin, São Paulo - SP   \n",
       "area                                                        170   \n",
       "...                                                         ...   \n",
       "parse_bairro                                           brooklin   \n",
       "lat                                                  -23.612118   \n",
       "lon                                                  -46.685606   \n",
       "log_price                                              14.53335   \n",
       "price_cut                                                   NaN   \n",
       "\n",
       "                                                          2      \\\n",
       "id                                                   2511557601   \n",
       "url           https://www.vivareal.com.br/imovel/apartamento...   \n",
       "header                 Apartamento com 3 Quartos à Venda, 218m²   \n",
       "address              Rua Laplace, 44 - Brooklin, São Paulo - SP   \n",
       "area                                                        218   \n",
       "...                                                         ...   \n",
       "parse_bairro                                           brooklin   \n",
       "lat                                                  -23.624983   \n",
       "lon                                                  -46.685161   \n",
       "log_price                                             14.739769   \n",
       "price_cut                                                   NaN   \n",
       "\n",
       "                                                          3      \\\n",
       "id                                                   2522220295   \n",
       "url           https://www.vivareal.com.br/imovel/apartamento...   \n",
       "header                 Apartamento com 3 Quartos à Venda, 116m²   \n",
       "address              Rua Arandu, 660 - Brooklin, São Paulo - SP   \n",
       "area                                                        116   \n",
       "...                                                         ...   \n",
       "parse_bairro                                           brooklin   \n",
       "lat                                                  -23.606832   \n",
       "lon                                                  -46.690248   \n",
       "log_price                                             14.187074   \n",
       "price_cut                                                   NaN   \n",
       "\n",
       "                                                          4      \\\n",
       "id                                                   2516069997   \n",
       "url           https://www.vivareal.com.br/imovel/apartamento...   \n",
       "header                 Apartamento com 4 Quartos à Venda, 250m²   \n",
       "address             Rua Flórida, 320 - Brooklin, São Paulo - SP   \n",
       "area                                                        250   \n",
       "...                                                         ...   \n",
       "parse_bairro                                           brooklin   \n",
       "lat                                                   -23.61523   \n",
       "lon                                                  -46.683582   \n",
       "log_price                                             15.250595   \n",
       "price_cut                                                   NaN   \n",
       "\n",
       "                                                          5      \\\n",
       "id                                                   2514753785   \n",
       "url           https://www.vivareal.com.br/imovel/apartamento...   \n",
       "header                  Apartamento com 3 Quartos à Venda, 81m²   \n",
       "address       Rua Pássaros e Flores, 444 - Brooklin, São Pau...   \n",
       "area                                                         81   \n",
       "...                                                         ...   \n",
       "parse_bairro                                           brooklin   \n",
       "lat                                                  -23.622278   \n",
       "lon                                                  -46.689713   \n",
       "log_price                                             13.586097   \n",
       "price_cut                                                   NaN   \n",
       "\n",
       "                                                          6      \\\n",
       "id                                                   2492392118   \n",
       "url           https://www.vivareal.com.br/imovel/apartamento...   \n",
       "header                 Apartamento com 4 Quartos à Venda, 225m²   \n",
       "address             Rua Arizona, 664 - Brooklin, São Paulo - SP   \n",
       "area                                                        225   \n",
       "...                                                         ...   \n",
       "parse_bairro                                           brooklin   \n",
       "lat                                                  -23.613975   \n",
       "lon                                                  -46.688229   \n",
       "log_price                                             15.065412   \n",
       "price_cut                                                   NaN   \n",
       "\n",
       "                                                          7      \\\n",
       "id                                                   2516584682   \n",
       "url           https://www.vivareal.com.br/imovel/apartamento...   \n",
       "header                     Apartamento com Quarto à Venda, 66m²   \n",
       "address             Rua Kansas, 1700 - Brooklin, São Paulo - SP   \n",
       "area                                                         66   \n",
       "...                                                         ...   \n",
       "parse_bairro                                           brooklin   \n",
       "lat                                                   -23.59962   \n",
       "lon                                                  -46.689701   \n",
       "log_price                                             13.981025   \n",
       "price_cut                                                   NaN   \n",
       "\n",
       "                                                          8      \\\n",
       "id                                                   2515567739   \n",
       "url           https://www.vivareal.com.br/imovel/apartamento...   \n",
       "header                     Apartamento com Quarto à Venda, 48m²   \n",
       "address       Rua Doutor Paschoal Imperatriz, 105 - Brooklin...   \n",
       "area                                                         48   \n",
       "...                                                         ...   \n",
       "parse_bairro                                           brooklin   \n",
       "lat                                                  -23.620634   \n",
       "lon                                                  -46.695495   \n",
       "log_price                                             13.428376   \n",
       "price_cut                                                   NaN   \n",
       "\n",
       "                                                          9      ...  \\\n",
       "id                                                   2485030080  ...   \n",
       "url           https://www.vivareal.com.br/imovel/apartamento...  ...   \n",
       "header                 Apartamento com 3 Quartos à Venda, 197m²  ...   \n",
       "address           Rua Nova York, 161 - Brooklin, São Paulo - SP  ...   \n",
       "area                                                        197  ...   \n",
       "...                                                         ...  ...   \n",
       "parse_bairro                                           brooklin  ...   \n",
       "lat                                                  -23.615818  ...   \n",
       "lon                                                  -46.685822  ...   \n",
       "log_price                                             14.978661  ...   \n",
       "price_cut                                                   NaN  ...   \n",
       "\n",
       "                                                          15246  \\\n",
       "id                                                   2512290389   \n",
       "url           https://www.vivareal.com.br/imovel/apartamento...   \n",
       "header                     Apartamento com Quarto à Venda, 29m²   \n",
       "address                                Tucuruvi, São Paulo - SP   \n",
       "area                                                         29   \n",
       "...                                                         ...   \n",
       "parse_bairro                                           tucuruvi   \n",
       "lat                                                  -23.473904   \n",
       "lon                                                  -46.610817   \n",
       "log_price                                             12.003577   \n",
       "price_cut                                                   NaN   \n",
       "\n",
       "                                                          15247  \\\n",
       "id                                                   2518873917   \n",
       "url           https://www.vivareal.com.br/imovel/apartamento...   \n",
       "header                  Apartamento com 2 Quartos à Venda, 40m²   \n",
       "address                                Tucuruvi, São Paulo - SP   \n",
       "area                                                         40   \n",
       "...                                                         ...   \n",
       "parse_bairro                                           tucuruvi   \n",
       "lat                                                  -23.473904   \n",
       "lon                                                  -46.610817   \n",
       "log_price                                             12.480711   \n",
       "price_cut                                                   NaN   \n",
       "\n",
       "                                                          15248  \\\n",
       "id                                                   2520837438   \n",
       "url           https://www.vivareal.com.br/imovel/apartamento...   \n",
       "header                  Apartamento com 2 Quartos à Venda, 42m²   \n",
       "address       Rua Baltazar de Morais - Tucuruvi, São Paulo - SP   \n",
       "area                                                         42   \n",
       "...                                                         ...   \n",
       "parse_bairro                                           tucuruvi   \n",
       "lat                                                   -23.47795   \n",
       "lon                                                  -46.589681   \n",
       "log_price                                             12.594731   \n",
       "price_cut                                                   NaN   \n",
       "\n",
       "                                                          15249  \\\n",
       "id                                                   2509043980   \n",
       "url           https://www.vivareal.com.br/imovel/apartamento...   \n",
       "header                 Apartamento com 3 Quartos à Venda, 104m²   \n",
       "address             Avenida Tucuruvi - Tucuruvi, São Paulo - SP   \n",
       "area                                                        104   \n",
       "...                                                         ...   \n",
       "parse_bairro                                           tucuruvi   \n",
       "lat                                                  -23.477859   \n",
       "lon                                                  -46.609736   \n",
       "log_price                                             13.296317   \n",
       "price_cut                                                   NaN   \n",
       "\n",
       "                                                          15250  \\\n",
       "id                                                   2498443199   \n",
       "url           https://www.vivareal.com.br/imovel/apartamento...   \n",
       "header                     Apartamento com Quarto à Venda, 28m²   \n",
       "address              Rua Baraqueçaba - Tucuruvi, São Paulo - SP   \n",
       "area                                                         28   \n",
       "...                                                         ...   \n",
       "parse_bairro                                           tucuruvi   \n",
       "lat                                                  -23.480098   \n",
       "lon                                                  -46.605477   \n",
       "log_price                                             12.149502   \n",
       "price_cut                                                   NaN   \n",
       "\n",
       "                                                          15251  \\\n",
       "id                                                   2517456409   \n",
       "url           https://www.vivareal.com.br/imovel/apartamento...   \n",
       "header                  Apartamento com 2 Quartos à Venda, 49m²   \n",
       "address               Avenida Mazzei - Tucuruvi, São Paulo - SP   \n",
       "area                                                         49   \n",
       "...                                                         ...   \n",
       "parse_bairro                                           tucuruvi   \n",
       "lat                                                  -23.473748   \n",
       "lon                                                  -46.601172   \n",
       "log_price                                             13.038982   \n",
       "price_cut                                                   NaN   \n",
       "\n",
       "                                                          15252  \\\n",
       "id                                                   2512290679   \n",
       "url           https://www.vivareal.com.br/imovel/apartamento...   \n",
       "header                     Apartamento com Quarto à Venda, 28m²   \n",
       "address                                Tucuruvi, São Paulo - SP   \n",
       "area                                                         28   \n",
       "...                                                         ...   \n",
       "parse_bairro                                           tucuruvi   \n",
       "lat                                                  -23.473904   \n",
       "lon                                                  -46.610817   \n",
       "log_price                                             12.096883   \n",
       "price_cut                                                   NaN   \n",
       "\n",
       "                                                          15253  \\\n",
       "id                                                   2475025733   \n",
       "url           https://www.vivareal.com.br/imovel/apartamento...   \n",
       "header                  Apartamento com 2 Quartos à Venda, 42m²   \n",
       "address                  Rua Jeruaba - Tucuruvi, São Paulo - SP   \n",
       "area                                                         42   \n",
       "...                                                         ...   \n",
       "parse_bairro                                           tucuruvi   \n",
       "lat                                                  -23.472761   \n",
       "lon                                                  -46.595993   \n",
       "log_price                                             12.409013   \n",
       "price_cut                                                   NaN   \n",
       "\n",
       "                                                          15254  \\\n",
       "id                                                   2519981464   \n",
       "url           https://www.vivareal.com.br/imovel/apartamento...   \n",
       "header                 Apartamento com 3 Quartos à Venda, 122m²   \n",
       "address              Rua Paulo Maldi - Tucuruvi, São Paulo - SP   \n",
       "area                                                        122   \n",
       "...                                                         ...   \n",
       "parse_bairro                                           tucuruvi   \n",
       "lat                                                  -23.483614   \n",
       "lon                                                  -46.611336   \n",
       "log_price                                             13.972514   \n",
       "price_cut                                                   NaN   \n",
       "\n",
       "                                                          15255  \n",
       "id                                                   2514394292  \n",
       "url           https://www.vivareal.com.br/imovel/apartamento...  \n",
       "header                     Apartamento com Quarto à Venda, 55m²  \n",
       "address       Avenida Nova Cantareira, 100 - Tucuruvi, São P...  \n",
       "area                                                         55  \n",
       "...                                                         ...  \n",
       "parse_bairro                                           tucuruvi  \n",
       "lat                                                  -23.488428  \n",
       "lon                                                  -46.623384  \n",
       "log_price                                             12.733755  \n",
       "price_cut                                                   NaN  \n",
       "\n",
       "[102 rows x 15256 columns]"
      ]
     },
     "execution_count": 116,
     "metadata": {},
     "output_type": "execute_result"
    }
   ],
   "source": [
    "df.T"
   ]
  },
  {
   "cell_type": "code",
   "execution_count": 66,
   "id": "69e954ff-e8a0-4a81-96ee-f7b4b9d01549",
   "metadata": {},
   "outputs": [],
   "source": [
    "df_original = df.copy()"
   ]
  },
  {
   "cell_type": "code",
   "execution_count": 67,
   "id": "f0ae80c6-e2c9-4220-89a6-a028343be67d",
   "metadata": {},
   "outputs": [
    {
     "data": {
      "text/plain": [
       "count    1.525600e+04\n",
       "mean     9.397043e+05\n",
       "std      2.361303e+06\n",
       "min      1.700000e+02\n",
       "25%      3.391500e+05\n",
       "50%      5.699000e+05\n",
       "75%      1.029010e+06\n",
       "max      1.489000e+08\n",
       "Name: price, dtype: float64"
      ]
     },
     "execution_count": 67,
     "metadata": {},
     "output_type": "execute_result"
    }
   ],
   "source": [
    "df['price'].describe()"
   ]
  },
  {
   "cell_type": "code",
   "execution_count": 68,
   "id": "3c229fb1-c565-4884-a4f7-0c84c0752c94",
   "metadata": {},
   "outputs": [
    {
     "data": {
      "text/plain": [
       "939704.2506554798"
      ]
     },
     "execution_count": 68,
     "metadata": {},
     "output_type": "execute_result"
    }
   ],
   "source": [
    "df['price'].mean()"
   ]
  },
  {
   "cell_type": "code",
   "execution_count": 69,
   "id": "58c4c31c-3e45-4ba1-b238-706bf9bf4c26",
   "metadata": {},
   "outputs": [
    {
     "data": {
      "text/plain": [
       "569900.0"
      ]
     },
     "execution_count": 69,
     "metadata": {},
     "output_type": "execute_result"
    }
   ],
   "source": [
    "df['price'].median()"
   ]
  },
  {
   "cell_type": "code",
   "execution_count": 70,
   "id": "4e4d8003-63f1-470c-a863-7b74ad58212f",
   "metadata": {},
   "outputs": [
    {
     "data": {
      "text/plain": [
       "0.25     339150.00\n",
       "0.75    1029010.25\n",
       "Name: price, dtype: float64"
      ]
     },
     "execution_count": 70,
     "metadata": {},
     "output_type": "execute_result"
    }
   ],
   "source": [
    "df['price'].quantile([.25,.75])"
   ]
  },
  {
   "cell_type": "code",
   "execution_count": 71,
   "id": "62b340ce-9543-4150-b1a6-ccad052d91c8",
   "metadata": {},
   "outputs": [
    {
     "data": {
      "text/plain": [
       "0.25     339150.00\n",
       "0.75    1029010.25\n",
       "Name: price, dtype: float64"
      ]
     },
     "execution_count": 71,
     "metadata": {},
     "output_type": "execute_result"
    }
   ],
   "source": [
    "df['price'].quantile([.25,.75])"
   ]
  },
  {
   "cell_type": "code",
   "execution_count": 72,
   "id": "4c08a924-1721-48bc-b89c-1a48035f604d",
   "metadata": {},
   "outputs": [
    {
     "name": "stdout",
     "output_type": "stream",
     "text": [
      "q1 = 339150.0, q3 = 1029010.25\n"
     ]
    }
   ],
   "source": [
    "q1,q3 = df['price'].quantile([.25,.75])\n",
    "print(f\"q1 = {q1}, q3 = {q3}\")"
   ]
  },
  {
   "cell_type": "code",
   "execution_count": 73,
   "id": "a7d3c2c7-4b62-4d22-a1b3-a54be6f685dc",
   "metadata": {},
   "outputs": [
    {
     "name": "stdout",
     "output_type": "stream",
     "text": [
      "689860.25\n"
     ]
    }
   ],
   "source": [
    "iqr = q3-q1\n",
    "print(iqr)"
   ]
  },
  {
   "cell_type": "code",
   "execution_count": 74,
   "id": "4b9dca03-ac49-4b11-9096-fddfd4d63055",
   "metadata": {},
   "outputs": [
    {
     "name": "stdout",
     "output_type": "stream",
     "text": [
      "-695640.375\n"
     ]
    }
   ],
   "source": [
    "lb =  q1-1.5*iqr\n",
    "print(lb)"
   ]
  },
  {
   "cell_type": "code",
   "execution_count": 75,
   "id": "63afc69a-d6df-49bc-a95e-8e29092a83e1",
   "metadata": {},
   "outputs": [
    {
     "name": "stdout",
     "output_type": "stream",
     "text": [
      "2063800.625\n"
     ]
    }
   ],
   "source": [
    "ub = q3+1.5*iqr\n",
    "print(ub)"
   ]
  },
  {
   "cell_type": "code",
   "execution_count": 76,
   "id": "15216a69-c925-4c06-970f-e849e02de3b8",
   "metadata": {},
   "outputs": [
    {
     "data": {
      "text/plain": [
       "<AxesSubplot:>"
      ]
     },
     "execution_count": 76,
     "metadata": {},
     "output_type": "execute_result"
    },
    {
     "data": {
      "image/png": "[encoded data removed]",
      "text/plain": [
       "<Figure size 432x288 with 1 Axes>"
      ]
     },
     "metadata": {
      "needs_background": "light"
     },
     "output_type": "display_data"
    }
   ],
   "source": [
    "df['price'].plot(kind='box')"
   ]
  },
  {
   "cell_type": "code",
   "execution_count": 77,
   "id": "87df52ce-6f60-474f-8d5e-d7f4dcc899e6",
   "metadata": {},
   "outputs": [
    {
     "data": {
      "text/plain": [
       "<AxesSubplot:>"
      ]
     },
     "execution_count": 77,
     "metadata": {},
     "output_type": "execute_result"
    },
    {
     "data": {
      "image/png": "[encoded data removed]",
      "text/plain": [
       "<Figure size 432x288 with 1 Axes>"
      ]
     },
     "metadata": {
      "needs_background": "light"
     },
     "output_type": "display_data"
    }
   ],
   "source": [
    "df.loc[df['price'].between(lb,ub),'price'].plot(kind='box')"
   ]
  },
  {
   "cell_type": "code",
   "execution_count": 78,
   "id": "0bb3c0b3-5d06-4238-b582-8b0a42667ef9",
   "metadata": {
    "collapsed": true,
    "jupyter": {
     "outputs_hidden": true
    },
    "tags": []
   },
   "outputs": [
    {
     "data": {
      "text/html": [
       "<div>\n",
       "<style scoped>\n",
       "    .dataframe tbody tr th:only-of-type {\n",
       "        vertical-align: middle;\n",
       "    }\n",
       "\n",
       "    .dataframe tbody tr th {\n",
       "        vertical-align: top;\n",
       "    }\n",
       "\n",
       "    .dataframe thead th {\n",
       "        text-align: right;\n",
       "    }\n",
       "</style>\n",
       "<table border=\"1\" class=\"dataframe\">\n",
       "  <thead>\n",
       "    <tr style=\"text-align: right;\">\n",
       "      <th></th>\n",
       "      <th>id</th>\n",
       "      <th>url</th>\n",
       "      <th>header</th>\n",
       "      <th>address</th>\n",
       "      <th>area</th>\n",
       "      <th>rooms</th>\n",
       "      <th>bathrooms</th>\n",
       "      <th>garages</th>\n",
       "      <th>price</th>\n",
       "      <th>condo</th>\n",
       "      <th>...</th>\n",
       "      <th>Varanda gourmet</th>\n",
       "      <th>Vigia</th>\n",
       "      <th>Vista para a montanha</th>\n",
       "      <th>Vista para o mar</th>\n",
       "      <th>Área de lazer</th>\n",
       "      <th>Área de serviço</th>\n",
       "      <th>estado</th>\n",
       "      <th>parse_bairro</th>\n",
       "      <th>lat</th>\n",
       "      <th>lon</th>\n",
       "    </tr>\n",
       "  </thead>\n",
       "  <tbody>\n",
       "    <tr>\n",
       "      <th>2</th>\n",
       "      <td>2511557601</td>\n",
       "      <td>https://www.vivareal.com.br/imovel/apartamento...</td>\n",
       "      <td>Apartamento com 3 Quartos à Venda, 218m²</td>\n",
       "      <td>Rua Laplace, 44 - Brooklin, São Paulo - SP</td>\n",
       "      <td>218</td>\n",
       "      <td>3</td>\n",
       "      <td>5</td>\n",
       "      <td>4</td>\n",
       "      <td>2520000</td>\n",
       "      <td>2800.0</td>\n",
       "      <td>...</td>\n",
       "      <td>1</td>\n",
       "      <td>0</td>\n",
       "      <td>0</td>\n",
       "      <td>0</td>\n",
       "      <td>0</td>\n",
       "      <td>0</td>\n",
       "      <td>SP</td>\n",
       "      <td>brooklin</td>\n",
       "      <td>-23.624983</td>\n",
       "      <td>-46.685161</td>\n",
       "    </tr>\n",
       "    <tr>\n",
       "      <th>4</th>\n",
       "      <td>2516069997</td>\n",
       "      <td>https://www.vivareal.com.br/imovel/apartamento...</td>\n",
       "      <td>Apartamento com 4 Quartos à Venda, 250m²</td>\n",
       "      <td>Rua Flórida, 320 - Brooklin, São Paulo - SP</td>\n",
       "      <td>250</td>\n",
       "      <td>4</td>\n",
       "      <td>6</td>\n",
       "      <td>4</td>\n",
       "      <td>4200000</td>\n",
       "      <td>2500.0</td>\n",
       "      <td>...</td>\n",
       "      <td>1</td>\n",
       "      <td>0</td>\n",
       "      <td>0</td>\n",
       "      <td>0</td>\n",
       "      <td>0</td>\n",
       "      <td>0</td>\n",
       "      <td>SP</td>\n",
       "      <td>brooklin</td>\n",
       "      <td>-23.615230</td>\n",
       "      <td>-46.683582</td>\n",
       "    </tr>\n",
       "    <tr>\n",
       "      <th>6</th>\n",
       "      <td>2492392118</td>\n",
       "      <td>https://www.vivareal.com.br/imovel/apartamento...</td>\n",
       "      <td>Apartamento com 4 Quartos à Venda, 225m²</td>\n",
       "      <td>Rua Arizona, 664 - Brooklin, São Paulo - SP</td>\n",
       "      <td>225</td>\n",
       "      <td>4</td>\n",
       "      <td>6</td>\n",
       "      <td>4</td>\n",
       "      <td>3490000</td>\n",
       "      <td>2253.0</td>\n",
       "      <td>...</td>\n",
       "      <td>0</td>\n",
       "      <td>0</td>\n",
       "      <td>0</td>\n",
       "      <td>0</td>\n",
       "      <td>0</td>\n",
       "      <td>0</td>\n",
       "      <td>SP</td>\n",
       "      <td>brooklin</td>\n",
       "      <td>-23.613975</td>\n",
       "      <td>-46.688229</td>\n",
       "    </tr>\n",
       "    <tr>\n",
       "      <th>9</th>\n",
       "      <td>2485030080</td>\n",
       "      <td>https://www.vivareal.com.br/imovel/apartamento...</td>\n",
       "      <td>Apartamento com 3 Quartos à Venda, 197m²</td>\n",
       "      <td>Rua Nova York, 161 - Brooklin, São Paulo - SP</td>\n",
       "      <td>197</td>\n",
       "      <td>3</td>\n",
       "      <td>4</td>\n",
       "      <td>3</td>\n",
       "      <td>3200000</td>\n",
       "      <td>1450.0</td>\n",
       "      <td>...</td>\n",
       "      <td>0</td>\n",
       "      <td>0</td>\n",
       "      <td>0</td>\n",
       "      <td>0</td>\n",
       "      <td>0</td>\n",
       "      <td>0</td>\n",
       "      <td>SP</td>\n",
       "      <td>brooklin</td>\n",
       "      <td>-23.615818</td>\n",
       "      <td>-46.685822</td>\n",
       "    </tr>\n",
       "    <tr>\n",
       "      <th>11</th>\n",
       "      <td>2515685776</td>\n",
       "      <td>https://www.vivareal.com.br/imovel/apartamento...</td>\n",
       "      <td>Apartamento com 4 Quartos à Venda, 205m²</td>\n",
       "      <td>Rua Arizona, 1064 - Brooklin, São Paulo - SP</td>\n",
       "      <td>205</td>\n",
       "      <td>4</td>\n",
       "      <td>5</td>\n",
       "      <td>4</td>\n",
       "      <td>2600000</td>\n",
       "      <td>2100.0</td>\n",
       "      <td>...</td>\n",
       "      <td>0</td>\n",
       "      <td>0</td>\n",
       "      <td>0</td>\n",
       "      <td>0</td>\n",
       "      <td>0</td>\n",
       "      <td>0</td>\n",
       "      <td>SP</td>\n",
       "      <td>brooklin</td>\n",
       "      <td>-23.611705</td>\n",
       "      <td>-46.691270</td>\n",
       "    </tr>\n",
       "    <tr>\n",
       "      <th>...</th>\n",
       "      <td>...</td>\n",
       "      <td>...</td>\n",
       "      <td>...</td>\n",
       "      <td>...</td>\n",
       "      <td>...</td>\n",
       "      <td>...</td>\n",
       "      <td>...</td>\n",
       "      <td>...</td>\n",
       "      <td>...</td>\n",
       "      <td>...</td>\n",
       "      <td>...</td>\n",
       "      <td>...</td>\n",
       "      <td>...</td>\n",
       "      <td>...</td>\n",
       "      <td>...</td>\n",
       "      <td>...</td>\n",
       "      <td>...</td>\n",
       "      <td>...</td>\n",
       "      <td>...</td>\n",
       "      <td>...</td>\n",
       "      <td>...</td>\n",
       "    </tr>\n",
       "    <tr>\n",
       "      <th>14386</th>\n",
       "      <td>2504471724</td>\n",
       "      <td>https://www.vivareal.com.br/imovel/apartamento...</td>\n",
       "      <td>Apartamento com 4 Quartos à Venda, 350m²</td>\n",
       "      <td>Avenida Nova Cantareira, 3924 - Tucuruvi, São ...</td>\n",
       "      <td>350</td>\n",
       "      <td>4</td>\n",
       "      <td>7</td>\n",
       "      <td>10</td>\n",
       "      <td>4740000</td>\n",
       "      <td>1100.0</td>\n",
       "      <td>...</td>\n",
       "      <td>1</td>\n",
       "      <td>0</td>\n",
       "      <td>0</td>\n",
       "      <td>0</td>\n",
       "      <td>0</td>\n",
       "      <td>0</td>\n",
       "      <td>SP</td>\n",
       "      <td>tucuruvi</td>\n",
       "      <td>-23.466285</td>\n",
       "      <td>-46.615915</td>\n",
       "    </tr>\n",
       "    <tr>\n",
       "      <th>14396</th>\n",
       "      <td>2520673876</td>\n",
       "      <td>https://www.vivareal.com.br/imovel/apartamento...</td>\n",
       "      <td>Apartamento com 3 Quartos à Venda, 382m²</td>\n",
       "      <td>Avenida Nova Cantareira, 3924 - Tucuruvi, São ...</td>\n",
       "      <td>382</td>\n",
       "      <td>3</td>\n",
       "      <td>5</td>\n",
       "      <td>6</td>\n",
       "      <td>3550000</td>\n",
       "      <td>1100.0</td>\n",
       "      <td>...</td>\n",
       "      <td>0</td>\n",
       "      <td>0</td>\n",
       "      <td>0</td>\n",
       "      <td>0</td>\n",
       "      <td>0</td>\n",
       "      <td>1</td>\n",
       "      <td>SP</td>\n",
       "      <td>tucuruvi</td>\n",
       "      <td>-23.466285</td>\n",
       "      <td>-46.615915</td>\n",
       "    </tr>\n",
       "    <tr>\n",
       "      <th>14434</th>\n",
       "      <td>2501217492</td>\n",
       "      <td>https://www.vivareal.com.br/imovel/apartamento...</td>\n",
       "      <td>Apartamento com 3 Quartos à Venda, 375m²</td>\n",
       "      <td>Avenida Nova Cantareira, 3924 - Tucuruvi, São ...</td>\n",
       "      <td>375</td>\n",
       "      <td>3</td>\n",
       "      <td>3</td>\n",
       "      <td>2</td>\n",
       "      <td>2900000</td>\n",
       "      <td>1100.0</td>\n",
       "      <td>...</td>\n",
       "      <td>0</td>\n",
       "      <td>0</td>\n",
       "      <td>0</td>\n",
       "      <td>0</td>\n",
       "      <td>0</td>\n",
       "      <td>0</td>\n",
       "      <td>SP</td>\n",
       "      <td>tucuruvi</td>\n",
       "      <td>-23.466285</td>\n",
       "      <td>-46.615915</td>\n",
       "    </tr>\n",
       "    <tr>\n",
       "      <th>14542</th>\n",
       "      <td>2522989817</td>\n",
       "      <td>https://www.vivareal.com.br/imovel/apartamento...</td>\n",
       "      <td>Apartamento com 2 Quartos à Venda, 60m²</td>\n",
       "      <td>Avenida Professora Virgília Rodrigues Alves de...</td>\n",
       "      <td>60</td>\n",
       "      <td>2</td>\n",
       "      <td>1</td>\n",
       "      <td>1</td>\n",
       "      <td>2800000</td>\n",
       "      <td>453.0</td>\n",
       "      <td>...</td>\n",
       "      <td>0</td>\n",
       "      <td>0</td>\n",
       "      <td>0</td>\n",
       "      <td>0</td>\n",
       "      <td>0</td>\n",
       "      <td>0</td>\n",
       "      <td>SP</td>\n",
       "      <td>tucuruvi</td>\n",
       "      <td>-23.470381</td>\n",
       "      <td>-46.608111</td>\n",
       "    </tr>\n",
       "    <tr>\n",
       "      <th>15109</th>\n",
       "      <td>2518693679</td>\n",
       "      <td>https://www.vivareal.com.br/imovel/apartamento...</td>\n",
       "      <td>Apartamento com 4 Quartos à Venda, 321m²</td>\n",
       "      <td>Rua Capitão Alberto Mendes Júnior, 606 - Tucur...</td>\n",
       "      <td>321</td>\n",
       "      <td>4</td>\n",
       "      <td>6</td>\n",
       "      <td>6</td>\n",
       "      <td>3900000</td>\n",
       "      <td>3800.0</td>\n",
       "      <td>...</td>\n",
       "      <td>1</td>\n",
       "      <td>0</td>\n",
       "      <td>0</td>\n",
       "      <td>0</td>\n",
       "      <td>0</td>\n",
       "      <td>0</td>\n",
       "      <td>SP</td>\n",
       "      <td>tucuruvi</td>\n",
       "      <td>-23.482736</td>\n",
       "      <td>-46.616077</td>\n",
       "    </tr>\n",
       "  </tbody>\n",
       "</table>\n",
       "<p>1351 rows × 100 columns</p>\n",
       "</div>"
      ],
      "text/plain": [
       "               id                                                url  \\\n",
       "2      2511557601  https://www.vivareal.com.br/imovel/apartamento...   \n",
       "4      2516069997  https://www.vivareal.com.br/imovel/apartamento...   \n",
       "6      2492392118  https://www.vivareal.com.br/imovel/apartamento...   \n",
       "9      2485030080  https://www.vivareal.com.br/imovel/apartamento...   \n",
       "11     2515685776  https://www.vivareal.com.br/imovel/apartamento...   \n",
       "...           ...                                                ...   \n",
       "14386  2504471724  https://www.vivareal.com.br/imovel/apartamento...   \n",
       "14396  2520673876  https://www.vivareal.com.br/imovel/apartamento...   \n",
       "14434  2501217492  https://www.vivareal.com.br/imovel/apartamento...   \n",
       "14542  2522989817  https://www.vivareal.com.br/imovel/apartamento...   \n",
       "15109  2518693679  https://www.vivareal.com.br/imovel/apartamento...   \n",
       "\n",
       "                                         header  \\\n",
       "2      Apartamento com 3 Quartos à Venda, 218m²   \n",
       "4      Apartamento com 4 Quartos à Venda, 250m²   \n",
       "6      Apartamento com 4 Quartos à Venda, 225m²   \n",
       "9      Apartamento com 3 Quartos à Venda, 197m²   \n",
       "11     Apartamento com 4 Quartos à Venda, 205m²   \n",
       "...                                         ...   \n",
       "14386  Apartamento com 4 Quartos à Venda, 350m²   \n",
       "14396  Apartamento com 3 Quartos à Venda, 382m²   \n",
       "14434  Apartamento com 3 Quartos à Venda, 375m²   \n",
       "14542   Apartamento com 2 Quartos à Venda, 60m²   \n",
       "15109  Apartamento com 4 Quartos à Venda, 321m²   \n",
       "\n",
       "                                                 address  area  rooms  \\\n",
       "2             Rua Laplace, 44 - Brooklin, São Paulo - SP   218      3   \n",
       "4            Rua Flórida, 320 - Brooklin, São Paulo - SP   250      4   \n",
       "6            Rua Arizona, 664 - Brooklin, São Paulo - SP   225      4   \n",
       "9          Rua Nova York, 161 - Brooklin, São Paulo - SP   197      3   \n",
       "11          Rua Arizona, 1064 - Brooklin, São Paulo - SP   205      4   \n",
       "...                                                  ...   ...    ...   \n",
       "14386  Avenida Nova Cantareira, 3924 - Tucuruvi, São ...   350      4   \n",
       "14396  Avenida Nova Cantareira, 3924 - Tucuruvi, São ...   382      3   \n",
       "14434  Avenida Nova Cantareira, 3924 - Tucuruvi, São ...   375      3   \n",
       "14542  Avenida Professora Virgília Rodrigues Alves de...    60      2   \n",
       "15109  Rua Capitão Alberto Mendes Júnior, 606 - Tucur...   321      4   \n",
       "\n",
       "       bathrooms  garages    price   condo  ... Varanda gourmet Vigia  \\\n",
       "2              5        4  2520000  2800.0  ...               1     0   \n",
       "4              6        4  4200000  2500.0  ...               1     0   \n",
       "6              6        4  3490000  2253.0  ...               0     0   \n",
       "9              4        3  3200000  1450.0  ...               0     0   \n",
       "11             5        4  2600000  2100.0  ...               0     0   \n",
       "...          ...      ...      ...     ...  ...             ...   ...   \n",
       "14386          7       10  4740000  1100.0  ...               1     0   \n",
       "14396          5        6  3550000  1100.0  ...               0     0   \n",
       "14434          3        2  2900000  1100.0  ...               0     0   \n",
       "14542          1        1  2800000   453.0  ...               0     0   \n",
       "15109          6        6  3900000  3800.0  ...               1     0   \n",
       "\n",
       "       Vista para a montanha  Vista para o mar  Área de lazer  \\\n",
       "2                          0                 0              0   \n",
       "4                          0                 0              0   \n",
       "6                          0                 0              0   \n",
       "9                          0                 0              0   \n",
       "11                         0                 0              0   \n",
       "...                      ...               ...            ...   \n",
       "14386                      0                 0              0   \n",
       "14396                      0                 0              0   \n",
       "14434                      0                 0              0   \n",
       "14542                      0                 0              0   \n",
       "15109                      0                 0              0   \n",
       "\n",
       "       Área de serviço  estado  parse_bairro        lat        lon  \n",
       "2                    0      SP      brooklin -23.624983 -46.685161  \n",
       "4                    0      SP      brooklin -23.615230 -46.683582  \n",
       "6                    0      SP      brooklin -23.613975 -46.688229  \n",
       "9                    0      SP      brooklin -23.615818 -46.685822  \n",
       "11                   0      SP      brooklin -23.611705 -46.691270  \n",
       "...                ...     ...           ...        ...        ...  \n",
       "14386                0      SP      tucuruvi -23.466285 -46.615915  \n",
       "14396                1      SP      tucuruvi -23.466285 -46.615915  \n",
       "14434                0      SP      tucuruvi -23.466285 -46.615915  \n",
       "14542                0      SP      tucuruvi -23.470381 -46.608111  \n",
       "15109                0      SP      tucuruvi -23.482736 -46.616077  \n",
       "\n",
       "[1351 rows x 100 columns]"
      ]
     },
     "execution_count": 78,
     "metadata": {},
     "output_type": "execute_result"
    }
   ],
   "source": [
    "c = df.loc[df['price'].between(lb,ub)]"
   ]
  },
  {
   "cell_type": "code",
   "execution_count": 80,
   "id": "3e1778da-6b49-4512-91b4-9ad34589e938",
   "metadata": {},
   "outputs": [],
   "source": [
    "df['log_price'] = np.log(df['price'])"
   ]
  },
  {
   "cell_type": "code",
   "execution_count": 88,
   "id": "831e947d-db1c-40fd-b06b-2250c3d3d213",
   "metadata": {},
   "outputs": [
    {
     "data": {
      "text/plain": [
       "<seaborn.axisgrid.FacetGrid at 0x1faef38e5b0>"
      ]
     },
     "execution_count": 88,
     "metadata": {},
     "output_type": "execute_result"
    },
    {
     "data": {
      "image/png": "[encoded data removed]",
      "text/plain": [
       "<Figure size 360x360 with 1 Axes>"
      ]
     },
     "metadata": {
      "needs_background": "light"
     },
     "output_type": "display_data"
    }
   ],
   "source": [
    "sns.displot(data=df.loc[df['price']>170000], x ='log_price', bins=15)"
   ]
  },
  {
   "cell_type": "code",
   "execution_count": 103,
   "id": "92b68f6d-1250-402d-a91d-3d5cbdc5d974",
   "metadata": {},
   "outputs": [
    {
     "data": {
      "text/plain": [
       "<AxesSubplot:ylabel='price'>"
      ]
     },
     "execution_count": 103,
     "metadata": {},
     "output_type": "execute_result"
    },
    {
     "data": {
      "image/png": "[encoded data removed]",
      "text/plain": [
       "<Figure size 432x288 with 1 Axes>"
      ]
     },
     "metadata": {
      "needs_background": "light"
     },
     "output_type": "display_data"
    }
   ],
   "source": [
    "sns.lineplot(data=df.sort_values(by=\"price\"), x=range(len(df)), y=\"price\")"
   ]
  },
  {
   "cell_type": "code",
   "execution_count": 130,
   "id": "71f04681-325b-4a04-95b9-fa3fc3b0f3cc",
   "metadata": {},
   "outputs": [],
   "source": [
    "df = pd.read_csv(\"primary_data.csv\")"
   ]
  },
  {
   "cell_type": "code",
   "execution_count": 131,
   "id": "a50a927d-cef8-46b5-b71c-683668916591",
   "metadata": {},
   "outputs": [],
   "source": [
    "def remove_outliers(data, bairro, coluna, max_removidos):\n",
    "    q1, q3 = data.loc[data[\"bairro\"] == bairro, coluna].quantile([.25,.75])\n",
    "    iqr = q3-q1\n",
    "    lb = max(q1 - 1.5*iqr, 0)\n",
    "    ub = q3 + 1.5*iqr\n",
    "    len_before = sum(~data.loc[data[\"bairro\"] == bairro, coluna].isnull())\n",
    "    len_after = len(data.loc[(data[\"bairro\"]==bairro) & (data[coluna].between(lb, ub)), coluna])\n",
    "    removidos = 1-(len_after/len_before)\n",
    "    print(f\"{bairro}: remocao por iqr seria {removidos*100}%\")\n",
    "    if removidos < max_removidos:\n",
    "        print(f\"Lower bound: {lb}, upper bound: {ub}\")\n",
    "        print(f\"Removidos por iqr: {removidos*100}%\")\n",
    "        data.loc[(data[\"bairro\"]==bairro) & (~data[coluna].between(lb, ub)), coluna] = np.nan\n",
    "    else:\n",
    "        data = remove_outliers_percentis(data, bairro, coluna, lower_percentile=0, upper_percentile=(1-max_removidos))\n",
    "    return data"
   ]
  },
  {
   "cell_type": "code",
   "execution_count": 132,
   "id": "01684f4a-7fa2-4cfa-bcaa-63a83b542613",
   "metadata": {},
   "outputs": [],
   "source": [
    "def remove_outliers_percentis(data, bairro, coluna, lower_percentile=0.0, upper_percentile=.99):\n",
    "    lb, ub = data.loc[data[\"bairro\"]==bairro, coluna].quantile([lower_percentile, upper_percentile])\n",
    "    len_before = sum(~data.loc[data[\"bairro\"] == bairro, coluna].isnull())\n",
    "    data.loc[(data[\"bairro\"]==bairro) & (~data[coluna].between(lb, ub)), coluna] = np.nan\n",
    "    len_after = sum(~data.loc[data[\"bairro\"] == bairro, coluna].isnull())\n",
    "    print(f\"Lower bound: {lb}, upper bound: {ub}\")\n",
    "    print(f\"Removidos por percentis: {(1-(len_after/len_before))*100}% dos dados\")\n",
    "    return data"
   ]
  },
  {
   "cell_type": "code",
   "execution_count": 133,
   "id": "75879987-87df-48c1-88d6-65b20fab1478",
   "metadata": {},
   "outputs": [
    {
     "data": {
      "text/plain": [
       "(array([ 0,  1,  2,  3,  4,  5,  6,  7,  8,  9, 10, 11, 12, 13, 14, 15, 16,\n",
       "        17]),\n",
       " [Text(0, 0, 'brooklin'),\n",
       "  Text(1, 0, 'butanta'),\n",
       "  Text(2, 0, 'republica'),\n",
       "  Text(3, 0, 'bras'),\n",
       "  Text(4, 0, 'fregesia do o'),\n",
       "  Text(5, 0, 'higienopolis'),\n",
       "  Text(6, 0, 'jardins'),\n",
       "  Text(7, 0, 'lapa'),\n",
       "  Text(8, 0, 'moema'),\n",
       "  Text(9, 0, 'mooca'),\n",
       "  Text(10, 0, 'morumbi'),\n",
       "  Text(11, 0, 'pinheiros'),\n",
       "  Text(12, 0, 'santana'),\n",
       "  Text(13, 0, 'saude'),\n",
       "  Text(14, 0, 'vila mariana'),\n",
       "  Text(15, 0, 'vila matilde'),\n",
       "  Text(16, 0, 'campo limpo'),\n",
       "  Text(17, 0, 'tucuruvi')])"
      ]
     },
     "execution_count": 133,
     "metadata": {},
     "output_type": "execute_result"
    },
    {
     "data": {
      "image/png": "[encoded data removed]",
      "text/plain": [
       "<Figure size 720x360 with 1 Axes>"
      ]
     },
     "metadata": {
      "needs_background": "light"
     },
     "output_type": "display_data"
    }
   ],
   "source": [
    "plt.figure(figsize=(10,5))\n",
    "sns.boxplot(data=df[[\"bairro\", \"area\"]], y=\"area\", x=\"bairro\")\n",
    "plt.xticks(rotation=45)"
   ]
  },
  {
   "cell_type": "code",
   "execution_count": 134,
   "id": "525b227a-b9f3-429f-a4c1-e24a01161ffb",
   "metadata": {},
   "outputs": [
    {
     "name": "stdout",
     "output_type": "stream",
     "text": [
      "brooklin: remocao por iqr seria 0.487210718635811%\n",
      "Lower bound: 0, upper bound: 286.5\n",
      "Removidos por iqr: 0.487210718635811%\n",
      "butanta: remocao por iqr seria 7.015457788347201%\n",
      "Lower bound: 24.0, upper bound: 132.0\n",
      "Removidos por percentis: 4.99405469678954% dos dados\n",
      "republica: remocao por iqr seria 7.78032036613272%\n",
      "Lower bound: 13.0, upper bound: 205.24999999999864\n",
      "Removidos por percentis: 5.034324942791757% dos dados\n",
      "bras: remocao por iqr seria 5.882352941176472%\n",
      "Lower bound: 19.0, upper bound: 121.0\n",
      "Removidos por percentis: 4.382929642445211% dos dados\n",
      "fregesia do o: remocao por iqr seria 6.349206349206349%\n",
      "Lower bound: 25.0, upper bound: 127.94999999999993\n",
      "Removidos por percentis: 5.102040816326525% dos dados\n",
      "higienopolis: remocao por iqr seria 3.4482758620689613%\n",
      "Lower bound: 0, upper bound: 432.75\n",
      "Removidos por iqr: 3.4482758620689613%\n",
      "jardins: remocao por iqr seria 4.968152866242037%\n",
      "Lower bound: 0, upper bound: 334.0\n",
      "Removidos por iqr: 4.968152866242037%\n",
      "lapa: remocao por iqr seria 2.83870967741936%\n",
      "Lower bound: 0, upper bound: 176.75\n",
      "Removidos por iqr: 2.83870967741936%\n",
      "moema: remocao por iqr seria 2.734375%\n",
      "Lower bound: 0, upper bound: 323.0\n",
      "Removidos por iqr: 2.734375%\n",
      "mooca: remocao por iqr seria 4.9267643142476665%\n",
      "Lower bound: 0, upper bound: 190.0\n",
      "Removidos por iqr: 4.9267643142476665%\n",
      "morumbi: remocao por iqr seria 4.504504504504503%\n",
      "Lower bound: 0, upper bound: 250.0\n",
      "Removidos por iqr: 4.504504504504503%\n",
      "pinheiros: remocao por iqr seria 3.4606205250596656%\n",
      "Lower bound: 0, upper bound: 229.5\n",
      "Removidos por iqr: 3.4606205250596656%\n",
      "santana: remocao por iqr seria 3.3295063145809434%\n",
      "Lower bound: 0, upper bound: 269.5\n",
      "Removidos por iqr: 3.3295063145809434%\n",
      "saude: remocao por iqr seria 6.35451505016722%\n",
      "Lower bound: 23.0, upper bound: 140.0\n",
      "Removidos por percentis: 4.682274247491636% dos dados\n",
      "vila mariana: remocao por iqr seria 5.369127516778526%\n",
      "Lower bound: 19.0, upper bound: 229.4999999999991\n",
      "Removidos por percentis: 5.033557046979864% dos dados\n",
      "vila matilde: remocao por iqr seria 6.1336254107338455%\n",
      "Lower bound: 26.0, upper bound: 107.39999999999998\n",
      "Removidos por percentis: 5.038335158817087% dos dados\n",
      "campo limpo: remocao por iqr seria 5.148741418764303%\n",
      "Lower bound: 31.0, upper bound: 79.0\n",
      "Removidos por percentis: 4.919908466819223% dos dados\n",
      "tucuruvi: remocao por iqr seria 2.3204419889502725%\n",
      "Lower bound: 0, upper bound: 144.5\n",
      "Removidos por iqr: 2.3204419889502725%\n"
     ]
    }
   ],
   "source": [
    "for bairro in df[\"bairro\"].unique():\n",
    "    df = remove_outliers(df, bairro, \"area\", max_removidos=.05)"
   ]
  },
  {
   "cell_type": "code",
   "execution_count": 135,
   "id": "946a029b-6eb1-4e58-ae01-24a493f8eb19",
   "metadata": {},
   "outputs": [
    {
     "data": {
      "text/plain": [
       "(array([ 0,  1,  2,  3,  4,  5,  6,  7,  8,  9, 10, 11, 12, 13, 14, 15, 16,\n",
       "        17]),\n",
       " [Text(0, 0, 'brooklin'),\n",
       "  Text(1, 0, 'butanta'),\n",
       "  Text(2, 0, 'republica'),\n",
       "  Text(3, 0, 'bras'),\n",
       "  Text(4, 0, 'fregesia do o'),\n",
       "  Text(5, 0, 'higienopolis'),\n",
       "  Text(6, 0, 'jardins'),\n",
       "  Text(7, 0, 'lapa'),\n",
       "  Text(8, 0, 'moema'),\n",
       "  Text(9, 0, 'mooca'),\n",
       "  Text(10, 0, 'morumbi'),\n",
       "  Text(11, 0, 'pinheiros'),\n",
       "  Text(12, 0, 'santana'),\n",
       "  Text(13, 0, 'saude'),\n",
       "  Text(14, 0, 'vila mariana'),\n",
       "  Text(15, 0, 'vila matilde'),\n",
       "  Text(16, 0, 'campo limpo'),\n",
       "  Text(17, 0, 'tucuruvi')])"
      ]
     },
     "execution_count": 135,
     "metadata": {},
     "output_type": "execute_result"
    },
    {
     "data": {
      "image/png": "[encoded data removed]",
      "text/plain": [
       "<Figure size 720x360 with 1 Axes>"
      ]
     },
     "metadata": {
      "needs_background": "light"
     },
     "output_type": "display_data"
    }
   ],
   "source": [
    "plt.figure(figsize=(10,5))\n",
    "sns.boxplot(data=df[[\"bairro\", \"area\"]], y=\"area\", x=\"bairro\")\n",
    "plt.xticks(rotation=45)\n"
   ]
  },
  {
   "cell_type": "code",
   "execution_count": 136,
   "id": "36ec3a45-cd10-4773-ae00-6c7a8695b9a1",
   "metadata": {},
   "outputs": [
    {
     "data": {
      "text/plain": [
       "2     0.398728\n",
       "3     0.361497\n",
       "1     0.153448\n",
       "4     0.082001\n",
       "5     0.002687\n",
       "6     0.000524\n",
       "16    0.000393\n",
       "20    0.000328\n",
       "18    0.000131\n",
       "8     0.000066\n",
       "17    0.000066\n",
       "14    0.000066\n",
       "15    0.000066\n",
       "Name: rooms, dtype: float64"
      ]
     },
     "execution_count": 136,
     "metadata": {},
     "output_type": "execute_result"
    }
   ],
   "source": [
    "df[\"rooms\"].value_counts(normalize=True)"
   ]
  },
  {
   "cell_type": "code",
   "execution_count": 138,
   "id": "215c228f-6372-4f38-a055-851f362b5ad6",
   "metadata": {},
   "outputs": [
    {
     "data": {
      "text/plain": [
       "20"
      ]
     },
     "execution_count": 138,
     "metadata": {},
     "output_type": "execute_result"
    }
   ],
   "source": [
    "df[\"rooms\"].max()"
   ]
  },
  {
   "cell_type": "code",
   "execution_count": 139,
   "id": "f5bd1305-9be7-43bb-bc46-fefac8e64398",
   "metadata": {},
   "outputs": [],
   "source": [
    "df.loc[df[\"rooms\"]>6, \"rooms\"] = np.nan"
   ]
  },
  {
   "cell_type": "code",
   "execution_count": 140,
   "id": "afd30ba7-b06c-476b-9849-0ffa621b2d56",
   "metadata": {},
   "outputs": [
    {
     "data": {
      "text/plain": [
       "0.9990823282642894"
      ]
     },
     "execution_count": 140,
     "metadata": {},
     "output_type": "execute_result"
    }
   ],
   "source": [
    "df[\"bathrooms\"].value_counts(normalize=True)[:8].sum()"
   ]
  },
  {
   "cell_type": "code",
   "execution_count": 141,
   "id": "0817248a-e396-47e6-8d9b-5ee9d635852c",
   "metadata": {},
   "outputs": [],
   "source": [
    "df.loc[df[\"bathrooms\"]>8, \"bathrooms\"] = np.nan"
   ]
  },
  {
   "cell_type": "code",
   "execution_count": 142,
   "id": "51a40b9d-f8e6-43e5-b531-e9b761ed79e1",
   "metadata": {},
   "outputs": [
    {
     "data": {
      "text/plain": [
       "1    0.483613\n",
       "2    0.261012\n",
       "0    0.132341\n",
       "3    0.075052\n",
       "4    0.035199\n",
       "5    0.007669\n",
       "6    0.002950\n",
       "Name: garages, dtype: float64"
      ]
     },
     "execution_count": 142,
     "metadata": {},
     "output_type": "execute_result"
    }
   ],
   "source": [
    "df[\"garages\"].value_counts(normalize=True)[:7]"
   ]
  },
  {
   "cell_type": "code",
   "execution_count": 143,
   "id": "989d08f9-e699-4f1e-84f1-68b6671218d3",
   "metadata": {},
   "outputs": [],
   "source": [
    "df.loc[df[\"garages\"]>6, \"garages\"] = np.nan"
   ]
  },
  {
   "cell_type": "code",
   "execution_count": 144,
   "id": "ee35bb0a-dd79-4c22-9043-7bcc60fa7e11",
   "metadata": {},
   "outputs": [
    {
     "name": "stdout",
     "output_type": "stream",
     "text": [
      "brooklin: remocao por iqr seria 2.679658952496955%\n",
      "Lower bound: 0, upper bound: 3425600.0\n",
      "Removidos por iqr: 2.679658952496955%\n",
      "butanta: remocao por iqr seria 5.945303210463737%\n",
      "Lower bound: 147100.0, upper bound: 1030000.0\n",
      "Removidos por percentis: 4.99405469678954% dos dados\n",
      "republica: remocao por iqr seria 10.755148741418763%\n",
      "Lower bound: 99000.0, upper bound: 1500000.0\n",
      "Removidos por percentis: 4.919908466819223% dos dados\n",
      "bras: remocao por iqr seria 0.5767012687427964%\n",
      "Lower bound: 0, upper bound: 920250.0\n",
      "Removidos por iqr: 0.5767012687427964%\n",
      "fregesia do o: remocao por iqr seria 6.4625850340136015%\n",
      "Lower bound: 111111.0, upper bound: 1098479.999999998\n",
      "Removidos por percentis: 5.102040816326525% dos dados\n",
      "higienopolis: remocao por iqr seria 8.251231527093594%\n",
      "Lower bound: 273002.0, upper bound: 6067499.99999999\n",
      "Removidos por percentis: 5.049261083743839% dos dados\n",
      "jardins: remocao por iqr seria 8.662420382165603%\n",
      "Lower bound: 190000.0, upper bound: 6814399.999999999\n",
      "Removidos por percentis: 5.095541401273884% dos dados\n",
      "lapa: remocao por iqr seria 2.580645161290318%\n",
      "Lower bound: 0, upper bound: 1930000.0\n",
      "Removidos por iqr: 2.580645161290318%\n",
      "moema: remocao por iqr seria 6.5104166666666625%\n",
      "Lower bound: 175000.0, upper bound: 5740999.999999997\n",
      "Removidos por percentis: 5.078125% dos dados\n",
      "mooca: remocao por iqr seria 4.9267643142476665%\n",
      "Lower bound: 0, upper bound: 1620075.0\n",
      "Removidos por iqr: 4.9267643142476665%\n",
      "morumbi: remocao por iqr seria 6.3063063063063085%\n",
      "Lower bound: 146800.0, upper bound: 1782499.9999999988\n",
      "Removidos por percentis: 5.067567567567566% dos dados\n",
      "pinheiros: remocao por iqr seria 4.057279236276845%\n",
      "Lower bound: 0, upper bound: 3279687.5\n",
      "Removidos por iqr: 4.057279236276845%\n",
      "santana: remocao por iqr seria 8.381171067738237%\n",
      "Lower bound: 130000.0, upper bound: 2699500.0\n",
      "Removidos por percentis: 5.051664753157292% dos dados\n",
      "saude: remocao por iqr seria 4.013377926421402%\n",
      "Lower bound: 0, upper bound: 1367500.0\n",
      "Removidos por iqr: 4.013377926421402%\n",
      "vila mariana: remocao por iqr seria 9.172259507829983%\n",
      "Lower bound: 165000.0, upper bound: 2966799.999999996\n",
      "Removidos por percentis: 5.033557046979864% dos dados\n",
      "vila matilde: remocao por iqr seria 3.2858707557502753%\n",
      "Lower bound: 5000.0, upper bound: 749000.0\n",
      "Removidos por iqr: 3.2858707557502753%\n",
      "campo limpo: remocao por iqr seria 7.322654462242562%\n",
      "Lower bound: 151500.0, upper bound: 551749.9999999995\n",
      "Removidos por percentis: 5.034324942791757% dos dados\n",
      "tucuruvi: remocao por iqr seria 1.76795580110497%\n",
      "Lower bound: 0, upper bound: 1100000.0\n",
      "Removidos por iqr: 1.76795580110497%\n"
     ]
    }
   ],
   "source": [
    "for bairro in df[\"bairro\"].unique():\n",
    "    df = remove_outliers(df, bairro, \"price\", max_removidos=.05)\n"
   ]
  },
  {
   "cell_type": "code",
   "execution_count": 145,
   "id": "e99ac10f-6f3d-40c5-bf14-7a13db307ffc",
   "metadata": {},
   "outputs": [
    {
     "data": {
      "text/plain": [
       "(array([ 0,  1,  2,  3,  4,  5,  6,  7,  8,  9, 10, 11, 12, 13, 14, 15, 16,\n",
       "        17]),\n",
       " [Text(0, 0, 'brooklin'),\n",
       "  Text(1, 0, 'butanta'),\n",
       "  Text(2, 0, 'republica'),\n",
       "  Text(3, 0, 'bras'),\n",
       "  Text(4, 0, 'fregesia do o'),\n",
       "  Text(5, 0, 'higienopolis'),\n",
       "  Text(6, 0, 'jardins'),\n",
       "  Text(7, 0, 'lapa'),\n",
       "  Text(8, 0, 'moema'),\n",
       "  Text(9, 0, 'mooca'),\n",
       "  Text(10, 0, 'morumbi'),\n",
       "  Text(11, 0, 'pinheiros'),\n",
       "  Text(12, 0, 'santana'),\n",
       "  Text(13, 0, 'saude'),\n",
       "  Text(14, 0, 'vila mariana'),\n",
       "  Text(15, 0, 'vila matilde'),\n",
       "  Text(16, 0, 'campo limpo'),\n",
       "  Text(17, 0, 'tucuruvi')])"
      ]
     },
     "execution_count": 145,
     "metadata": {},
     "output_type": "execute_result"
    },
    {
     "data": {
      "image/png": "[encoded data removed]",
      "text/plain": [
       "<Figure size 720x360 with 1 Axes>"
      ]
     },
     "metadata": {
      "needs_background": "light"
     },
     "output_type": "display_data"
    }
   ],
   "source": [
    "plt.figure(figsize=(10,5))\n",
    "sns.boxplot(data=df[[\"bairro\", \"price\"]], y=\"price\", x=\"bairro\")\n",
    "plt.xticks(rotation=45)"
   ]
  },
  {
   "cell_type": "code",
   "execution_count": 146,
   "id": "44631377-8d1e-4bfb-88c4-51dde7873226",
   "metadata": {},
   "outputs": [],
   "source": [
    "df.loc[df[\"condo\"]<100, \"condo\"] = np.nan\n"
   ]
  },
  {
   "cell_type": "code",
   "execution_count": 147,
   "id": "da3758e3-0619-418f-aa57-3aabbe35278e",
   "metadata": {},
   "outputs": [
    {
     "name": "stdout",
     "output_type": "stream",
     "text": [
      "brooklin: remocao por iqr seria 3.271692745376953%\n",
      "Lower bound: 0, upper bound: 2777.0\n",
      "Removidos por iqr: 3.271692745376953%\n",
      "butanta: remocao por iqr seria 3.0855539971949564%\n",
      "Lower bound: 0, upper bound: 1305.0\n",
      "Removidos por iqr: 3.0855539971949564%\n",
      "republica: remocao por iqr seria 9.647979139504558%\n",
      "Lower bound: 100.0, upper bound: 1474.9999999999966\n",
      "Removidos por percentis: 5.0847457627118615% dos dados\n",
      "bras: remocao por iqr seria 2.2292993630573243%\n",
      "Lower bound: 0, upper bound: 890.5\n",
      "Removidos por iqr: 2.2292993630573243%\n",
      "fregesia do o: remocao por iqr seria 7.742782152230976%\n",
      "Lower bound: 100.0, upper bound: 1222.9499999999998\n",
      "Removidos por percentis: 5.118110236220474% dos dados\n",
      "higienopolis: remocao por iqr seria 5.289672544080604%\n",
      "Lower bound: 111.0, upper bound: 6219.0\n",
      "Removidos por percentis: 4.534005037783373% dos dados\n",
      "jardins: remocao por iqr seria 6.921944035346095%\n",
      "Lower bound: 133.0, upper bound: 4908.000000000002\n",
      "Removidos por percentis: 5.007363770250373% dos dados\n",
      "lapa: remocao por iqr seria 5.666666666666664%\n",
      "Lower bound: 100.0, upper bound: 1700.0\n",
      "Removidos por percentis: 4.833333333333334% dos dados\n",
      "moema: remocao por iqr seria 6.113537117903933%\n",
      "Lower bound: 111.0, upper bound: 4300.0\n",
      "Removidos por percentis: 4.949053857350805% dos dados\n",
      "mooca: remocao por iqr seria 5.757575757575761%\n",
      "Lower bound: 111.0, upper bound: 1500.0\n",
      "Removidos por percentis: 4.2424242424242475% dos dados\n",
      "morumbi: remocao por iqr seria 5.840286054827171%\n",
      "Lower bound: 111.0, upper bound: 2800.0\n",
      "Removidos por percentis: 4.886769964243143% dos dados\n",
      "pinheiros: remocao por iqr seria 6.151419558359617%\n",
      "Lower bound: 111.0, upper bound: 2700.0\n",
      "Removidos por percentis: 4.731861198738175% dos dados\n",
      "santana: remocao por iqr seria 5.17676767676768%\n",
      "Lower bound: 100.0, upper bound: 2800.0\n",
      "Removidos por percentis: 4.419191919191922% dos dados\n",
      "saude: remocao por iqr seria 6.934306569343063%\n",
      "Lower bound: 100.0, upper bound: 1499.7999999999997\n",
      "Removidos por percentis: 5.109489051094895% dos dados\n",
      "vila mariana: remocao por iqr seria 7.71276595744681%\n",
      "Lower bound: 111.0, upper bound: 2800.0\n",
      "Removidos por percentis: 4.9202127659574435% dos dados\n",
      "vila matilde: remocao por iqr seria 4.1666666666666625%\n",
      "Lower bound: 0, upper bound: 1231.25\n",
      "Removidos por iqr: 4.1666666666666625%\n",
      "campo limpo: remocao por iqr seria 4.832713754646845%\n",
      "Lower bound: 74.25, upper bound: 756.25\n",
      "Removidos por iqr: 4.832713754646845%\n",
      "tucuruvi: remocao por iqr seria 4.680851063829783%\n",
      "Lower bound: 0, upper bound: 1485.0\n",
      "Removidos por iqr: 4.680851063829783%\n"
     ]
    }
   ],
   "source": [
    "for bairro in df[\"bairro\"].unique():\n",
    "    df = remove_outliers(df, bairro, \"condo\", max_removidos=.05)\n"
   ]
  },
  {
   "cell_type": "code",
   "execution_count": 148,
   "id": "0d80192f-1fad-49b3-b20d-c2333485d007",
   "metadata": {},
   "outputs": [
    {
     "data": {
      "text/plain": [
       "(array([ 0,  1,  2,  3,  4,  5,  6,  7,  8,  9, 10, 11, 12, 13, 14, 15, 16,\n",
       "        17]),\n",
       " [Text(0, 0, 'brooklin'),\n",
       "  Text(1, 0, 'butanta'),\n",
       "  Text(2, 0, 'republica'),\n",
       "  Text(3, 0, 'bras'),\n",
       "  Text(4, 0, 'fregesia do o'),\n",
       "  Text(5, 0, 'higienopolis'),\n",
       "  Text(6, 0, 'jardins'),\n",
       "  Text(7, 0, 'lapa'),\n",
       "  Text(8, 0, 'moema'),\n",
       "  Text(9, 0, 'mooca'),\n",
       "  Text(10, 0, 'morumbi'),\n",
       "  Text(11, 0, 'pinheiros'),\n",
       "  Text(12, 0, 'santana'),\n",
       "  Text(13, 0, 'saude'),\n",
       "  Text(14, 0, 'vila mariana'),\n",
       "  Text(15, 0, 'vila matilde'),\n",
       "  Text(16, 0, 'campo limpo'),\n",
       "  Text(17, 0, 'tucuruvi')])"
      ]
     },
     "execution_count": 148,
     "metadata": {},
     "output_type": "execute_result"
    },
    {
     "data": {
      "image/png": "[encoded data removed]",
      "text/plain": [
       "<Figure size 720x360 with 1 Axes>"
      ]
     },
     "metadata": {
      "needs_background": "light"
     },
     "output_type": "display_data"
    }
   ],
   "source": [
    "plt.figure(figsize=(10,5))\n",
    "sns.boxplot(data=df[[\"bairro\", \"condo\"]], y=\"condo\", x=\"bairro\")\n",
    "plt.xticks(rotation=45)\n"
   ]
  },
  {
   "cell_type": "code",
   "execution_count": 149,
   "id": "15d3af19-7547-424d-9352-a39ec2a3d9c2",
   "metadata": {},
   "outputs": [
    {
     "data": {
      "text/plain": [
       "<seaborn.axisgrid.FacetGrid at 0x1fb03c33e20>"
      ]
     },
     "execution_count": 149,
     "metadata": {},
     "output_type": "execute_result"
    },
    {
     "data": {
      "image/png": "[encoded data removed]",
      "text/plain": [
       "<Figure size 461x360 with 1 Axes>"
      ]
     },
     "metadata": {
      "needs_background": "light"
     },
     "output_type": "display_data"
    }
   ],
   "source": [
    "sns.lmplot(data=df, x=\"area\", y=\"price\", hue=\"bairro\")\n"
   ]
  },
  {
   "cell_type": "code",
   "execution_count": 150,
   "id": "5d53d42b-a811-491d-b756-be13f687e41e",
   "metadata": {},
   "outputs": [
    {
     "data": {
      "text/plain": [
       "id                            0\n",
       "url                           0\n",
       "header                        0\n",
       "address                       0\n",
       "area                        615\n",
       "rooms                        17\n",
       "bathrooms                    13\n",
       "garages                      33\n",
       "price                       628\n",
       "condo                      2846\n",
       "bairro                        0\n",
       "crawled_at                    0\n",
       "Academia                      0\n",
       "Aceita animais                0\n",
       "Acesso para deficientes       0\n",
       "dtype: int64"
      ]
     },
     "execution_count": 150,
     "metadata": {},
     "output_type": "execute_result"
    }
   ],
   "source": [
    "df.isnull().sum()[:15]"
   ]
  },
  {
   "cell_type": "code",
   "execution_count": 151,
   "id": "84b76982-72af-4be2-b002-bbd1a0c86fa7",
   "metadata": {},
   "outputs": [
    {
     "data": {
      "text/html": [
       "<div>\n",
       "<style scoped>\n",
       "    .dataframe tbody tr th:only-of-type {\n",
       "        vertical-align: middle;\n",
       "    }\n",
       "\n",
       "    .dataframe tbody tr th {\n",
       "        vertical-align: top;\n",
       "    }\n",
       "\n",
       "    .dataframe thead th {\n",
       "        text-align: right;\n",
       "    }\n",
       "</style>\n",
       "<table border=\"1\" class=\"dataframe\">\n",
       "  <thead>\n",
       "    <tr style=\"text-align: right;\">\n",
       "      <th></th>\n",
       "      <th>area</th>\n",
       "      <th>rooms</th>\n",
       "      <th>bathrooms</th>\n",
       "      <th>garages</th>\n",
       "      <th>price</th>\n",
       "      <th>condo</th>\n",
       "    </tr>\n",
       "  </thead>\n",
       "  <tbody>\n",
       "    <tr>\n",
       "      <th>area</th>\n",
       "      <td>1.000000</td>\n",
       "      <td>0.697479</td>\n",
       "      <td>0.767032</td>\n",
       "      <td>0.715472</td>\n",
       "      <td>0.846341</td>\n",
       "      <td>0.843835</td>\n",
       "    </tr>\n",
       "    <tr>\n",
       "      <th>rooms</th>\n",
       "      <td>0.697479</td>\n",
       "      <td>1.000000</td>\n",
       "      <td>0.694981</td>\n",
       "      <td>0.652029</td>\n",
       "      <td>0.503955</td>\n",
       "      <td>0.505980</td>\n",
       "    </tr>\n",
       "    <tr>\n",
       "      <th>bathrooms</th>\n",
       "      <td>0.767032</td>\n",
       "      <td>0.694981</td>\n",
       "      <td>1.000000</td>\n",
       "      <td>0.740149</td>\n",
       "      <td>0.676715</td>\n",
       "      <td>0.617686</td>\n",
       "    </tr>\n",
       "    <tr>\n",
       "      <th>garages</th>\n",
       "      <td>0.715472</td>\n",
       "      <td>0.652029</td>\n",
       "      <td>0.740149</td>\n",
       "      <td>1.000000</td>\n",
       "      <td>0.624047</td>\n",
       "      <td>0.623913</td>\n",
       "    </tr>\n",
       "    <tr>\n",
       "      <th>price</th>\n",
       "      <td>0.846341</td>\n",
       "      <td>0.503955</td>\n",
       "      <td>0.676715</td>\n",
       "      <td>0.624047</td>\n",
       "      <td>1.000000</td>\n",
       "      <td>0.804861</td>\n",
       "    </tr>\n",
       "    <tr>\n",
       "      <th>condo</th>\n",
       "      <td>0.843835</td>\n",
       "      <td>0.505980</td>\n",
       "      <td>0.617686</td>\n",
       "      <td>0.623913</td>\n",
       "      <td>0.804861</td>\n",
       "      <td>1.000000</td>\n",
       "    </tr>\n",
       "  </tbody>\n",
       "</table>\n",
       "</div>"
      ],
      "text/plain": [
       "               area     rooms  bathrooms   garages     price     condo\n",
       "area       1.000000  0.697479   0.767032  0.715472  0.846341  0.843835\n",
       "rooms      0.697479  1.000000   0.694981  0.652029  0.503955  0.505980\n",
       "bathrooms  0.767032  0.694981   1.000000  0.740149  0.676715  0.617686\n",
       "garages    0.715472  0.652029   0.740149  1.000000  0.624047  0.623913\n",
       "price      0.846341  0.503955   0.676715  0.624047  1.000000  0.804861\n",
       "condo      0.843835  0.505980   0.617686  0.623913  0.804861  1.000000"
      ]
     },
     "execution_count": 151,
     "metadata": {},
     "output_type": "execute_result"
    }
   ],
   "source": [
    "df[df.columns[4:10]].corr()"
   ]
  },
  {
   "cell_type": "code",
   "execution_count": 152,
   "id": "8169d405-b6a8-4d8a-963d-30f99f2e593d",
   "metadata": {},
   "outputs": [
    {
     "data": {
      "text/plain": [
       "0.9390403775563713"
      ]
     },
     "execution_count": 152,
     "metadata": {},
     "output_type": "execute_result"
    }
   ],
   "source": [
    "len(df.dropna(subset=[\"area\", \"rooms\", \"bathrooms\", \"garages\", \"price\"]))/len(df)"
   ]
  },
  {
   "cell_type": "code",
   "execution_count": 153,
   "id": "8483883a-5d4d-4056-93a2-92d8a94b862a",
   "metadata": {},
   "outputs": [],
   "source": [
    "df.to_csv(\"intermediate_data.csv\", index=False)"
   ]
  },
  {
   "cell_type": "code",
   "execution_count": null,
   "id": "e8e05c66-d027-416e-be76-e9f8f560a915",
   "metadata": {},
   "outputs": [],
   "source": []
  }
 ],
 "metadata": {
  "kernelspec": {
   "display_name": "Python 3",
   "language": "python",
   "name": "python3"
  },
  "language_info": {
   "codemirror_mode": {
    "name": "ipython",
    "version": 3
   },
   "file_extension": ".py",
   "mimetype": "text/x-python",
   "name": "python",
   "nbconvert_exporter": "python",
   "pygments_lexer": "ipython3",
   "version": "3.8.8"
  }
 },
 "nbformat": 4,
 "nbformat_minor": 5
}
