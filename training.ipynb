{
 "cells": [
  {
   "cell_type": "code",
   "execution_count": 41,
   "id": "0432d237-d91d-4b6d-9044-ef57a9b576bb",
   "metadata": {},
   "outputs": [],
   "source": [
    "import pandas as pd\n",
    "import numpy as np\n",
    "from sklearn.model_selection import train_test_split, GridSearchCV\n",
    "from sklearn.compose import ColumnTransformer\n",
    "from sklearn.preprocessing import MinMaxScaler, StandardScaler, OneHotEncoder\n",
    "from sklearn.linear_model import LinearRegression\n",
    "from sklearn.tree import DecisionTreeRegressor\n",
    "from sklearn.ensemble import RandomForestRegressor\n",
    "from sklearn.metrics import r2_score, mean_absolute_percentage_error\n",
    "import seaborn as sns\n",
    "import matplotlib as plt\n",
    "from sklearn.feature_selection import SelectKBest, mutual_info_regression\n",
    "from catboost import CatBoostRegressor\n",
    "from xgboost import XGBRegressor\n",
    "#from yellowbrick.contrib.wrapper import wrap\n",
    "#from yellowbrick.regressor import ResidualsPlot"
   ]
  },
  {
   "cell_type": "code",
   "execution_count": 34,
   "id": "264bb019-80ca-4d88-815d-7957aa513ce4",
   "metadata": {},
   "outputs": [],
   "source": [
    "df = pd.read_csv(\"intermediate_data.csv\")"
   ]
  },
  {
   "cell_type": "code",
   "execution_count": 35,
   "id": "3458c375-6a1c-45a4-b0df-4c3eea958f07",
   "metadata": {},
   "outputs": [],
   "source": [
    "numerical_features = [\"area\", \"rooms\", \"bathrooms\", \"garages\"]\n",
    "categorical_features = [\"bairro\"]\n",
    "binary_features = [\n",
    "    'Academia', 'Aceita animais', 'Acesso para deficientes', 'Aquecimento',\n",
    "    'Ar-condicionado', 'Armário embutido', 'Armário embutido no quarto',\n",
    "    'Armário na cozinha', 'Armário no banheiro', 'Bicicletário',\n",
    "    'Box blindex', 'Cabeamento estruturado', 'Churrasqueira', 'Cinema',\n",
    "    'Circuito de segurança', 'Closet', 'Condomínio fechado',\n",
    "    'Conexão à internet', 'Copa', 'Coworking', 'Cozinha',\n",
    "    'Cozinha americana', 'Cozinha grande', 'Câmera de segurança',\n",
    "    'Depósito', 'Elevador', 'Escritório', 'Espaço gourmet', 'Espaço teen',\n",
    "    'Espaço verde / Parque', \"Espelhos d'água\", 'Garage band', 'Garagem',\n",
    "    'Gerador elétrico', 'Gramado', 'Guarita', 'Gás Encanado', 'Interfone',\n",
    "    'Janela grande', 'Jardim', 'Lareira', 'Lavabo', 'Lavanderia',\n",
    "    'Mais de um andar', 'Mobiliado', 'Móvel planejado',\n",
    "    'Perto de vias de acesso', 'Piscina', 'Piscina coberta',\n",
    "    'Piscina infantil', 'Piscina para adulto', 'Piso frio',\n",
    "    'Pista de cooper', 'Playground', 'Portaria 24h', 'Portão eletrônico',\n",
    "    'Próximo a escola', 'Próximo a hospitais', 'Próximo a shopping',\n",
    "    'Próximo a transporte público', 'Quadra de squash', 'Quadra de tênis',\n",
    "    'Quadra poliesportiva', 'Quintal', 'Recepção', 'Sala de jantar',\n",
    "    'Sala de massagem', 'Salão de festas', 'Salão de jogos', 'Sauna',\n",
    "    'Segurança 24h', 'Serviços pay per use', 'Serviços públicos essenciais',\n",
    "    'Sistema de alarme', 'Spa', 'TV a cabo', 'Varanda',\n",
    "    'Varanda fechada com vidro', 'Varanda gourmet', 'Vigia',\n",
    "    'Vista para a montanha', 'Vista para o mar', 'Área de lazer',\n",
    "    'Área de serviço']\n",
    "target = \"price\""
   ]
  },
  {
   "cell_type": "code",
   "execution_count": 36,
   "id": "80b445f3-df87-4196-8e59-1416802b7b8c",
   "metadata": {},
   "outputs": [
    {
     "data": {
      "text/plain": [
       "id              0\n",
       "url             0\n",
       "header          0\n",
       "address         0\n",
       "area          615\n",
       "rooms          17\n",
       "bathrooms      13\n",
       "garages        33\n",
       "price         628\n",
       "condo        2846\n",
       "dtype: int64"
      ]
     },
     "execution_count": 36,
     "metadata": {},
     "output_type": "execute_result"
    }
   ],
   "source": [
    "df.isnull().sum()[:10]"
   ]
  },
  {
   "cell_type": "code",
   "execution_count": 37,
   "id": "f7bb6e77-8fce-40ea-9377-534cd6b8f65b",
   "metadata": {},
   "outputs": [],
   "source": [
    "df = df.dropna(subset=['area','rooms','bathrooms','garages','price'])"
   ]
  },
  {
   "cell_type": "markdown",
   "id": "5fcfc2cb-9908-42df-9133-dc20311ba39a",
   "metadata": {},
   "source": [
    "# Data pipeline"
   ]
  },
  {
   "cell_type": "code",
   "execution_count": 43,
   "id": "7c8ee12e-8e0c-441e-94b6-b4975cf4cff6",
   "metadata": {},
   "outputs": [],
   "source": [
    "scaler =  MinMaxScaler()\n",
    "data_pipeline = ColumnTransformer([('numerical', scaler, numerical_features)], remainder ='passthrough')"
   ]
  },
  {
   "cell_type": "code",
   "execution_count": 44,
   "id": "a44de4a4-41f2-4c55-9a85-98b78f02e51b",
   "metadata": {},
   "outputs": [],
   "source": [
    "X = df[numerical_features+categorical_features+binary_features]\n",
    "y = df[target]\n",
    "X_train, X_test, y_train, y_test = train_test_split(X,y, test_size=.2, random_state=12345)"
   ]
  },
  {
   "cell_type": "code",
   "execution_count": 45,
   "id": "8185f2ca-9961-44d6-bed5-897e70cd58bc",
   "metadata": {},
   "outputs": [
    {
     "data": {
      "text/plain": [
       "ColumnTransformer(remainder='passthrough',\n",
       "                  transformers=[('numerical', MinMaxScaler(),\n",
       "                                 ['area', 'rooms', 'bathrooms', 'garages'])])"
      ]
     },
     "execution_count": 45,
     "metadata": {},
     "output_type": "execute_result"
    }
   ],
   "source": [
    "data_pipeline.fit(X_train)"
   ]
  },
  {
   "cell_type": "code",
   "execution_count": 46,
   "id": "f5542292-32d4-4e3a-974b-e0d3ad7e44d9",
   "metadata": {},
   "outputs": [],
   "source": [
    "X_train_transformed = data_pipeline.transform(X_train)\n",
    "X_test_transformed = data_pipeline.transform(X_test)"
   ]
  },
  {
   "cell_type": "code",
   "execution_count": 47,
   "id": "1f3741cc-702c-44cc-8b86-a554707f85ed",
   "metadata": {},
   "outputs": [],
   "source": [
    "X_train_transformed = pd.DataFrame(X_train_transformed, columns=numerical_features+categorical_features+binary_features)\n",
    "X_test_transformed = pd.DataFrame(X_test_transformed, columns=numerical_features+categorical_features+binary_features)"
   ]
  },
  {
   "cell_type": "markdown",
   "id": "f6c134e3-36c0-4bcf-9161-e4d139d0c5ab",
   "metadata": {},
   "source": [
    "# feature selection"
   ]
  },
  {
   "cell_type": "code",
   "execution_count": 48,
   "id": "a45d4d92-5804-4712-b837-a2ffb23078e6",
   "metadata": {},
   "outputs": [
    {
     "data": {
      "text/plain": [
       "SelectKBest(k='all',\n",
       "            score_func=<function mutual_info_regression at 0x00000262176E5670>)"
      ]
     },
     "execution_count": 48,
     "metadata": {},
     "output_type": "execute_result"
    }
   ],
   "source": [
    "selector = SelectKBest(score_func=mutual_info_regression, k=\"all\")\n",
    "selector.fit(X_train_transformed[numerical_features+binary_features], y_train)"
   ]
  },
  {
   "cell_type": "code",
   "execution_count": 49,
   "id": "39f0a85f-046d-4262-8150-6aeb59ea490a",
   "metadata": {},
   "outputs": [
    {
     "data": {
      "text/html": [
       "<div>\n",
       "<style scoped>\n",
       "    .dataframe tbody tr th:only-of-type {\n",
       "        vertical-align: middle;\n",
       "    }\n",
       "\n",
       "    .dataframe tbody tr th {\n",
       "        vertical-align: top;\n",
       "    }\n",
       "\n",
       "    .dataframe thead th {\n",
       "        text-align: right;\n",
       "    }\n",
       "</style>\n",
       "<table border=\"1\" class=\"dataframe\">\n",
       "  <thead>\n",
       "    <tr style=\"text-align: right;\">\n",
       "      <th></th>\n",
       "      <th>feature</th>\n",
       "      <th>score</th>\n",
       "    </tr>\n",
       "  </thead>\n",
       "  <tbody>\n",
       "    <tr>\n",
       "      <th>0</th>\n",
       "      <td>area</td>\n",
       "      <td>0.971709</td>\n",
       "    </tr>\n",
       "    <tr>\n",
       "      <th>2</th>\n",
       "      <td>bathrooms</td>\n",
       "      <td>0.469381</td>\n",
       "    </tr>\n",
       "    <tr>\n",
       "      <th>3</th>\n",
       "      <td>garages</td>\n",
       "      <td>0.375392</td>\n",
       "    </tr>\n",
       "    <tr>\n",
       "      <th>1</th>\n",
       "      <td>rooms</td>\n",
       "      <td>0.270295</td>\n",
       "    </tr>\n",
       "    <tr>\n",
       "      <th>82</th>\n",
       "      <td>Varanda gourmet</td>\n",
       "      <td>0.074091</td>\n",
       "    </tr>\n",
       "    <tr>\n",
       "      <th>51</th>\n",
       "      <td>Piscina</td>\n",
       "      <td>0.053435</td>\n",
       "    </tr>\n",
       "    <tr>\n",
       "      <th>4</th>\n",
       "      <td>Academia</td>\n",
       "      <td>0.042148</td>\n",
       "    </tr>\n",
       "    <tr>\n",
       "      <th>80</th>\n",
       "      <td>Varanda</td>\n",
       "      <td>0.040939</td>\n",
       "    </tr>\n",
       "    <tr>\n",
       "      <th>16</th>\n",
       "      <td>Churrasqueira</td>\n",
       "      <td>0.032624</td>\n",
       "    </tr>\n",
       "    <tr>\n",
       "      <th>71</th>\n",
       "      <td>Salão de festas</td>\n",
       "      <td>0.028308</td>\n",
       "    </tr>\n",
       "  </tbody>\n",
       "</table>\n",
       "</div>"
      ],
      "text/plain": [
       "            feature     score\n",
       "0              area  0.971709\n",
       "2         bathrooms  0.469381\n",
       "3           garages  0.375392\n",
       "1             rooms  0.270295\n",
       "82  Varanda gourmet  0.074091\n",
       "51          Piscina  0.053435\n",
       "4          Academia  0.042148\n",
       "80          Varanda  0.040939\n",
       "16    Churrasqueira  0.032624\n",
       "71  Salão de festas  0.028308"
      ]
     },
     "execution_count": 49,
     "metadata": {},
     "output_type": "execute_result"
    }
   ],
   "source": [
    "pd.DataFrame(zip(numerical_features + binary_features, selector.scores_), columns=[\"feature\", \"score\"]).sort_values(\"score\", ascending=False).head(10)"
   ]
  },
  {
   "cell_type": "markdown",
   "id": "74ad7200-d608-4b90-b9f3-ba425a386b2a",
   "metadata": {},
   "source": [
    "# fitting model"
   ]
  },
  {
   "cell_type": "markdown",
   "id": "6bd2190f-efe3-49dd-8993-9c9e80aea13f",
   "metadata": {},
   "source": [
    "### linear regression"
   ]
  },
  {
   "cell_type": "code",
   "execution_count": 50,
   "id": "552d151b-0bf5-4412-9a2d-e6a42ec8fbb9",
   "metadata": {},
   "outputs": [],
   "source": [
    "scaler = MinMaxScaler()\n",
    "ohe = OneHotEncoder()\n",
    "data_pipeline = ColumnTransformer([(\"numerical\", scaler, numerical_features), \n",
    "                                   (\"categorical\", ohe, categorical_features)], \n",
    "                                  remainder=\"passthrough\")"
   ]
  },
  {
   "cell_type": "code",
   "execution_count": 51,
   "id": "6d416a9e-0ab4-4196-9cda-05f5da3b3c78",
   "metadata": {},
   "outputs": [],
   "source": [
    "X = df[numerical_features + categorical_features]\n",
    "y = df[target]\n",
    "X_train, X_test, y_train, y_test = train_test_split(X, y, test_size=.2, random_state=12345)"
   ]
  },
  {
   "cell_type": "code",
   "execution_count": 52,
   "id": "488b97e6-b5a2-49c6-b0fb-32a3eea6dc0b",
   "metadata": {},
   "outputs": [
    {
     "data": {
      "text/plain": [
       "ColumnTransformer(remainder='passthrough',\n",
       "                  transformers=[('numerical', MinMaxScaler(),\n",
       "                                 ['area', 'rooms', 'bathrooms', 'garages']),\n",
       "                                ('categorical', OneHotEncoder(), ['bairro'])])"
      ]
     },
     "execution_count": 52,
     "metadata": {},
     "output_type": "execute_result"
    }
   ],
   "source": [
    "data_pipeline.fit(X_train)"
   ]
  },
  {
   "cell_type": "code",
   "execution_count": 55,
   "id": "7ff09be1-a786-4468-8b0a-5138eb31dcd1",
   "metadata": {},
   "outputs": [],
   "source": [
    "X_train_transformed = data_pipeline.transform(X_train)\n",
    "X_test_transformed = data_pipeline.transform(X_test)"
   ]
  },
  {
   "cell_type": "code",
   "execution_count": 56,
   "id": "fc4dfeb2-9546-449a-8a0c-e8bcc935ada8",
   "metadata": {},
   "outputs": [],
   "source": [
    "model = LinearRegression()"
   ]
  },
  {
   "cell_type": "code",
   "execution_count": 57,
   "id": "689e0426-37f8-45d8-9826-adec6cd8c7bf",
   "metadata": {},
   "outputs": [
    {
     "data": {
      "text/plain": [
       "LinearRegression()"
      ]
     },
     "execution_count": 57,
     "metadata": {},
     "output_type": "execute_result"
    }
   ],
   "source": [
    "model.fit(X_train_transformed, y_train)"
   ]
  },
  {
   "cell_type": "code",
   "execution_count": 68,
   "id": "b7aeed8c-5fd1-4794-9404-f1d7e639b986",
   "metadata": {},
   "outputs": [
    {
     "name": "stdout",
     "output_type": "stream",
     "text": [
      "['[ 201124.89892687  690691.94908666  259868.51347523 ...  202994.70410066\\n  583491.34436015 1144484.84841188],n/ [1479257.78191631 1505946.52199466  473358.10779176 ...  410994.26327856\\n 1340838.7538735  2418176.99850013]']\n"
     ]
    }
   ],
   "source": [
    "y_pred = model.predict(X_test_transformed)\n",
    "y_pred_train = model.predict(X_train_transformed)\n",
    "print([f'{y_pred},n/ {y_pred_train}'])"
   ]
  },
  {
   "cell_type": "code",
   "execution_count": 60,
   "id": "9b473937-8f8b-4cb1-9ffa-2ede08185ebd",
   "metadata": {},
   "outputs": [
    {
     "name": "stdout",
     "output_type": "stream",
     "text": [
      "0.2924482745440746\n"
     ]
    }
   ],
   "source": [
    "mape_lr = mean_absolute_percentage_error(y_test, y_pred)\n",
    "print(mape_lr)"
   ]
  },
  {
   "cell_type": "code",
   "execution_count": 71,
   "id": "4a419da1-79ac-4df9-b38a-ed73c01a3cbc",
   "metadata": {},
   "outputs": [
    {
     "name": "stdout",
     "output_type": "stream",
     "text": [
      "0.8225902232840017\n"
     ]
    }
   ],
   "source": [
    "r2_lr_train = r2_score(y_train, y_pred_train)\n",
    "print(r2_lr_train)"
   ]
  },
  {
   "cell_type": "code",
   "execution_count": 70,
   "id": "85e394a2-dd85-4108-b00a-7a5392e80c07",
   "metadata": {},
   "outputs": [
    {
     "ename": "NameError",
     "evalue": "name 'ResidualsPlot' is not defined",
     "output_type": "error",
     "traceback": [
      "\u001b[1;31m---------------------------------------------------------------------------\u001b[0m",
      "\u001b[1;31mNameError\u001b[0m                                 Traceback (most recent call last)",
      "\u001b[1;32m<ipython-input-70-180d123a2c4a>\u001b[0m in \u001b[0;36m<module>\u001b[1;34m\u001b[0m\n\u001b[1;32m----> 1\u001b[1;33m \u001b[0mvisualizer\u001b[0m \u001b[1;33m=\u001b[0m \u001b[0mResidualsPlot\u001b[0m\u001b[1;33m(\u001b[0m\u001b[0mmodel\u001b[0m\u001b[1;33m)\u001b[0m\u001b[1;33m\u001b[0m\u001b[1;33m\u001b[0m\u001b[0m\n\u001b[0m\u001b[0;32m      2\u001b[0m \u001b[1;33m\u001b[0m\u001b[0m\n\u001b[0;32m      3\u001b[0m \u001b[0mvisualizer\u001b[0m\u001b[1;33m.\u001b[0m\u001b[0mfit\u001b[0m\u001b[1;33m(\u001b[0m\u001b[0mX_train_transformed\u001b[0m\u001b[1;33m,\u001b[0m \u001b[0my_train\u001b[0m\u001b[1;33m)\u001b[0m  \u001b[1;31m# Fit the training data to the visualizer\u001b[0m\u001b[1;33m\u001b[0m\u001b[1;33m\u001b[0m\u001b[0m\n\u001b[0;32m      4\u001b[0m \u001b[0mvisualizer\u001b[0m\u001b[1;33m.\u001b[0m\u001b[0mscore\u001b[0m\u001b[1;33m(\u001b[0m\u001b[0mX_test_transformed\u001b[0m\u001b[1;33m,\u001b[0m \u001b[0my_test\u001b[0m\u001b[1;33m)\u001b[0m  \u001b[1;31m# Evaluate the model on the test data\u001b[0m\u001b[1;33m\u001b[0m\u001b[1;33m\u001b[0m\u001b[0m\n\u001b[0;32m      5\u001b[0m \u001b[0mvisualizer\u001b[0m\u001b[1;33m.\u001b[0m\u001b[0mshow\u001b[0m\u001b[1;33m(\u001b[0m\u001b[1;33m)\u001b[0m\u001b[1;33m\u001b[0m\u001b[1;33m\u001b[0m\u001b[0m\n",
      "\u001b[1;31mNameError\u001b[0m: name 'ResidualsPlot' is not defined"
     ]
    }
   ],
   "source": [
    "visualizer = ResidualsPlot(model)\n",
    "\n",
    "visualizer.fit(X_train_transformed, y_train)  # Fit the training data to the visualizer\n",
    "visualizer.score(X_test_transformed, y_test)  # Evaluate the model on the test data\n",
    "visualizer.show()    "
   ]
  },
  {
   "cell_type": "markdown",
   "id": "e23929cc-159a-4d83-b717-a0754640bb6c",
   "metadata": {},
   "source": [
    "# Random forest"
   ]
  },
  {
   "cell_type": "code",
   "execution_count": 72,
   "id": "af5c1b26-455a-40c3-87b9-3e138cd6a1f4",
   "metadata": {},
   "outputs": [
    {
     "data": {
      "text/plain": [
       "RandomForestRegressor(max_depth=15)"
      ]
     },
     "execution_count": 72,
     "metadata": {},
     "output_type": "execute_result"
    }
   ],
   "source": [
    "model = RandomForestRegressor(max_depth=15)\n",
    "model.fit(X_train_transformed, y_train)"
   ]
  },
  {
   "cell_type": "code",
   "execution_count": 74,
   "id": "f99b2071-89a6-4844-80a7-80c373339806",
   "metadata": {},
   "outputs": [
    {
     "name": "stdout",
     "output_type": "stream",
     "text": [
      "[ 359481.7566686   810144.43646632  322818.91191697 ...  302852.50149301\n",
      "  493238.90703071 1199535.86833333] [1248444.38947099 1531098.2163306   572195.63222026 ...  504545.68744329\n",
      " 1387866.74703244 2269938.41442059]\n"
     ]
    }
   ],
   "source": [
    "y_pred = model.predict(X_test_transformed)\n",
    "y_pred_train = model.predict(X_train_transformed)\n",
    "print(y_pred,y_pred_train)"
   ]
  },
  {
   "cell_type": "code",
   "execution_count": 76,
   "id": "c456a7f4-0278-49ed-b7dc-523adebd4089",
   "metadata": {},
   "outputs": [
    {
     "name": "stdout",
     "output_type": "stream",
     "text": [
      "0.16382071534001633\n"
     ]
    }
   ],
   "source": [
    "mape_rf = mean_absolute_percentage_error(y_test, y_pred)\n",
    "print(mape_rf)"
   ]
  },
  {
   "cell_type": "code",
   "execution_count": 79,
   "id": "77a5e204-fe6f-41c6-8691-319eb8a143aa",
   "metadata": {},
   "outputs": [
    {
     "name": "stdout",
     "output_type": "stream",
     "text": [
      "0.1304705798090945\n"
     ]
    }
   ],
   "source": [
    "r2_rf = mean_absolute_percentage_error(y_train,y_pred_train)\n",
    "print(r2_rf )"
   ]
  },
  {
   "cell_type": "code",
   "execution_count": 80,
   "id": "98dd9968-ec82-46e8-9118-fdb4248735eb",
   "metadata": {},
   "outputs": [
    {
     "ename": "NameError",
     "evalue": "name 'ResidualsPlot' is not defined",
     "output_type": "error",
     "traceback": [
      "\u001b[1;31m---------------------------------------------------------------------------\u001b[0m",
      "\u001b[1;31mNameError\u001b[0m                                 Traceback (most recent call last)",
      "\u001b[1;32m<ipython-input-80-f7e97d47e299>\u001b[0m in \u001b[0;36m<module>\u001b[1;34m\u001b[0m\n\u001b[1;32m----> 1\u001b[1;33m \u001b[0mvisualizer\u001b[0m \u001b[1;33m=\u001b[0m \u001b[0mResidualsPlot\u001b[0m\u001b[1;33m(\u001b[0m\u001b[0mmodel\u001b[0m\u001b[1;33m)\u001b[0m\u001b[1;33m\u001b[0m\u001b[1;33m\u001b[0m\u001b[0m\n\u001b[0m\u001b[0;32m      2\u001b[0m \u001b[1;33m\u001b[0m\u001b[0m\n\u001b[0;32m      3\u001b[0m \u001b[0mvisualizer\u001b[0m\u001b[1;33m.\u001b[0m\u001b[0mfit\u001b[0m\u001b[1;33m(\u001b[0m\u001b[0mX_train_transformed\u001b[0m\u001b[1;33m,\u001b[0m \u001b[0my_train\u001b[0m\u001b[1;33m)\u001b[0m  \u001b[1;31m# Fit the training data to the visualizer\u001b[0m\u001b[1;33m\u001b[0m\u001b[1;33m\u001b[0m\u001b[0m\n\u001b[0;32m      4\u001b[0m \u001b[0mvisualizer\u001b[0m\u001b[1;33m.\u001b[0m\u001b[0mscore\u001b[0m\u001b[1;33m(\u001b[0m\u001b[0mX_test_transformed\u001b[0m\u001b[1;33m,\u001b[0m \u001b[0my_test\u001b[0m\u001b[1;33m)\u001b[0m  \u001b[1;31m# Evaluate the model on the test data\u001b[0m\u001b[1;33m\u001b[0m\u001b[1;33m\u001b[0m\u001b[0m\n\u001b[0;32m      5\u001b[0m \u001b[0mvisualizer\u001b[0m\u001b[1;33m.\u001b[0m\u001b[0mshow\u001b[0m\u001b[1;33m(\u001b[0m\u001b[1;33m)\u001b[0m\u001b[1;33m\u001b[0m\u001b[1;33m\u001b[0m\u001b[0m\n",
      "\u001b[1;31mNameError\u001b[0m: name 'ResidualsPlot' is not defined"
     ]
    }
   ],
   "source": [
    "visualizer = ResidualsPlot(model)\n",
    "\n",
    "visualizer.fit(X_train_transformed, y_train)  # Fit the training data to the visualizer\n",
    "visualizer.score(X_test_transformed, y_test)  # Evaluate the model on the test data\n",
    "visualizer.show() "
   ]
  },
  {
   "cell_type": "code",
   "execution_count": 81,
   "id": "c19f1cf8-1a43-4fad-bf76-727135d47213",
   "metadata": {},
   "outputs": [
    {
     "data": {
      "text/plain": [
       "XGBRegressor(base_score=0.5, booster='gbtree', colsample_bylevel=1,\n",
       "             colsample_bynode=1, colsample_bytree=1, gamma=0, gpu_id=-1,\n",
       "             importance_type='gain', interaction_constraints='',\n",
       "             learning_rate=0.300000012, max_delta_step=0, max_depth=7,\n",
       "             min_child_weight=1, missing=nan, monotone_constraints='()',\n",
       "             n_estimators=100, n_jobs=4, num_parallel_tree=1, random_state=0,\n",
       "             reg_alpha=0, reg_lambda=1, scale_pos_weight=1, subsample=1,\n",
       "             tree_method='exact', validate_parameters=1, verbosity=None)"
      ]
     },
     "execution_count": 81,
     "metadata": {},
     "output_type": "execute_result"
    }
   ],
   "source": [
    "model = XGBRegressor(max_depth=7)\n",
    "model.fit(X_train_transformed, y_train)"
   ]
  },
  {
   "cell_type": "code",
   "execution_count": 88,
   "id": "587c5d0b-083c-4ed2-bf89-ca6c5ab0de4a",
   "metadata": {},
   "outputs": [
    {
     "name": "stdout",
     "output_type": "stream",
     "text": [
      "[ 352234.4   763421.25  302376.06 ...  161857.62  532844.2  1181990.4 ] [1235208.6 1388302.1  569529.5 ...  508488.1 1299896.2 2282305.5]\n"
     ]
    }
   ],
   "source": [
    "y_pred = model.predict(X_test_transformed)\n",
    "y_pred_train = model.predict(X_train_transformed)\n",
    "print(y_pred,y_pred_train)"
   ]
  },
  {
   "cell_type": "code",
   "execution_count": 89,
   "id": "c2efb00e-31cb-425b-8c5b-45a104ccbd1a",
   "metadata": {},
   "outputs": [
    {
     "name": "stdout",
     "output_type": "stream",
     "text": [
      "0.16052885551231624\n"
     ]
    }
   ],
   "source": [
    "mape_xgboost = mean_absolute_percentage_error(y_test, y_pred)\n",
    "print(mape_xgboost)"
   ]
  },
  {
   "cell_type": "code",
   "execution_count": 90,
   "id": "d096a873-ca82-4d3b-8d4b-d6b1f97b1e1e",
   "metadata": {},
   "outputs": [
    {
     "name": "stdout",
     "output_type": "stream",
     "text": [
      "0.8918332816135608\n"
     ]
    }
   ],
   "source": [
    "r2_xgboost = r2_score(y_test, y_pred)\n",
    "print(r2_xgboost)"
   ]
  },
  {
   "cell_type": "code",
   "execution_count": 91,
   "id": "b9dfb2ca-3e49-47fd-8b12-adc6a5f68e3f",
   "metadata": {},
   "outputs": [
    {
     "name": "stdout",
     "output_type": "stream",
     "text": [
      "0.12955850015940604\n"
     ]
    }
   ],
   "source": [
    "mape_xgboost_train = mean_absolute_percentage_error(y_train, y_pred_train)\n",
    "print(mape_xgboost_train)"
   ]
  },
  {
   "cell_type": "code",
   "execution_count": 92,
   "id": "783ad290-1302-4a0d-9e6d-376cc58c0ef3",
   "metadata": {},
   "outputs": [
    {
     "name": "stdout",
     "output_type": "stream",
     "text": [
      "0.9701074345337902\n"
     ]
    }
   ],
   "source": [
    "r2_xgboost_train = r2_score(y_train, y_pred_train)\n",
    "print(r2_xgboost_train)"
   ]
  },
  {
   "cell_type": "code",
   "execution_count": null,
   "id": "17278276-9d08-422f-9460-aea9d1fad4f2",
   "metadata": {},
   "outputs": [],
   "source": []
  },
  {
   "cell_type": "code",
   "execution_count": 87,
   "id": "a67f9fde-7c9d-4c2b-b6da-c32c1fae4c3a",
   "metadata": {},
   "outputs": [
    {
     "ename": "NameError",
     "evalue": "name 'ResidualsPlot' is not defined",
     "output_type": "error",
     "traceback": [
      "\u001b[1;31m---------------------------------------------------------------------------\u001b[0m",
      "\u001b[1;31mNameError\u001b[0m                                 Traceback (most recent call last)",
      "\u001b[1;32m<ipython-input-87-2681e591ebb4>\u001b[0m in \u001b[0;36m<module>\u001b[1;34m\u001b[0m\n\u001b[1;32m----> 1\u001b[1;33m \u001b[0mvisualizer\u001b[0m \u001b[1;33m=\u001b[0m \u001b[0mResidualsPlot\u001b[0m\u001b[1;33m(\u001b[0m\u001b[0mmodel\u001b[0m\u001b[1;33m)\u001b[0m\u001b[1;33m\u001b[0m\u001b[1;33m\u001b[0m\u001b[0m\n\u001b[0m\u001b[0;32m      2\u001b[0m \u001b[1;33m\u001b[0m\u001b[0m\n\u001b[0;32m      3\u001b[0m \u001b[0mvisualizer\u001b[0m\u001b[1;33m.\u001b[0m\u001b[0mfit\u001b[0m\u001b[1;33m(\u001b[0m\u001b[0mX_train_transformed\u001b[0m\u001b[1;33m,\u001b[0m \u001b[0my_train\u001b[0m\u001b[1;33m)\u001b[0m  \u001b[1;31m# Fit the training data to the visualizer\u001b[0m\u001b[1;33m\u001b[0m\u001b[1;33m\u001b[0m\u001b[0m\n\u001b[0;32m      4\u001b[0m \u001b[0mvisualizer\u001b[0m\u001b[1;33m.\u001b[0m\u001b[0mscore\u001b[0m\u001b[1;33m(\u001b[0m\u001b[0mX_test_transformed\u001b[0m\u001b[1;33m,\u001b[0m \u001b[0my_test\u001b[0m\u001b[1;33m)\u001b[0m  \u001b[1;31m# Evaluate the model on the test data\u001b[0m\u001b[1;33m\u001b[0m\u001b[1;33m\u001b[0m\u001b[0m\n\u001b[0;32m      5\u001b[0m \u001b[0mvisualizer\u001b[0m\u001b[1;33m.\u001b[0m\u001b[0mshow\u001b[0m\u001b[1;33m(\u001b[0m\u001b[1;33m)\u001b[0m\u001b[1;33m\u001b[0m\u001b[1;33m\u001b[0m\u001b[0m\n",
      "\u001b[1;31mNameError\u001b[0m: name 'ResidualsPlot' is not defined"
     ]
    }
   ],
   "source": [
    "visualizer = ResidualsPlot(model)\n",
    "\n",
    "visualizer.fit(X_train_transformed, y_train)  # Fit the training data to the visualizer\n",
    "visualizer.score(X_test_transformed, y_test)  # Evaluate the model on the test data\n",
    "visualizer.show()         "
   ]
  },
  {
   "cell_type": "markdown",
   "id": "0bbfe9bb-ce0a-465e-9f8b-5ba8e5d340de",
   "metadata": {},
   "source": [
    "# Catboost"
   ]
  },
  {
   "cell_type": "code",
   "execution_count": 93,
   "id": "4ef207be-4445-41c4-b7fa-6bef1f3c6fcb",
   "metadata": {},
   "outputs": [],
   "source": [
    "scaler = MinMaxScaler()\n",
    "data_pipeline = ColumnTransformer([(\"numerical\", scaler, numerical_features)], \n",
    "                                  remainder=\"passthrough\")"
   ]
  },
  {
   "cell_type": "code",
   "execution_count": 94,
   "id": "836d2e97-d58a-4007-bd5b-8ceb5c7531ad",
   "metadata": {},
   "outputs": [],
   "source": [
    "X = df[numerical_features + categorical_features]\n",
    "y = df[target]\n",
    "X_train, X_test, y_train, y_test = train_test_split(X, y, test_size=.2, random_state=12345)"
   ]
  },
  {
   "cell_type": "code",
   "execution_count": 95,
   "id": "7a45d5ad-9bfc-434c-b847-89584f48f04b",
   "metadata": {},
   "outputs": [
    {
     "data": {
      "text/plain": [
       "ColumnTransformer(remainder='passthrough',\n",
       "                  transformers=[('numerical', MinMaxScaler(),\n",
       "                                 ['area', 'rooms', 'bathrooms', 'garages'])])"
      ]
     },
     "execution_count": 95,
     "metadata": {},
     "output_type": "execute_result"
    }
   ],
   "source": [
    "data_pipeline.fit(X_train)"
   ]
  },
  {
   "cell_type": "code",
   "execution_count": 96,
   "id": "8d4078f6-bb56-42ff-9afe-c38c742fac89",
   "metadata": {},
   "outputs": [],
   "source": [
    "X_train_transformed = data_pipeline.transform(X_train)\n",
    "X_test_transformed = data_pipeline.transform(X_test)"
   ]
  },
  {
   "cell_type": "code",
   "execution_count": 97,
   "id": "605a5ce9-9878-4d09-a955-aba53936a559",
   "metadata": {},
   "outputs": [],
   "source": [
    "X_train_transformed = pd.DataFrame(X_train_transformed, columns=numerical_features+categorical_features)\n",
    "X_test_transformed = pd.DataFrame(X_test_transformed, columns=numerical_features+categorical_features)"
   ]
  },
  {
   "cell_type": "code",
   "execution_count": 98,
   "id": "aa0d4d5b-8b91-41bc-a89a-ee6c2f982a3d",
   "metadata": {},
   "outputs": [
    {
     "data": {
      "text/plain": [
       "<catboost.core.CatBoostRegressor at 0x26217eea340>"
      ]
     },
     "execution_count": 98,
     "metadata": {},
     "output_type": "execute_result"
    }
   ],
   "source": [
    "model = CatBoostRegressor(cat_features=[\"bairro\"])\n",
    "model.fit(X_train_transformed, y_train, eval_set=(X_test_transformed, y_test), verbose=False)"
   ]
  },
  {
   "cell_type": "code",
   "execution_count": 100,
   "id": "5aeba95a-fce4-443f-89fc-1d4542888f21",
   "metadata": {},
   "outputs": [
    {
     "name": "stdout",
     "output_type": "stream",
     "text": [
      "[ 336908.88165439  745303.20460689  309443.47786616 ...  236175.43409446\n",
      "  534899.34507176 1190655.23259412] [1301636.09633449 1357709.14001602  564242.45062552 ...  454888.68250474\n",
      " 1356773.13540389 2337052.21161221]\n"
     ]
    }
   ],
   "source": [
    "y_pred = model.predict(X_test_transformed)\n",
    "y_pred_train = model.predict(X_train_transformed)\n",
    "print(y_pred,y_pred_train)\n"
   ]
  },
  {
   "cell_type": "code",
   "execution_count": 101,
   "id": "759f01c0-716a-4370-8276-9ce53444e3c7",
   "metadata": {},
   "outputs": [
    {
     "name": "stdout",
     "output_type": "stream",
     "text": [
      "6356      406205.0\n",
      "6583      766217.0\n",
      "3602      320000.0\n",
      "8859      470000.0\n",
      "13515     199000.0\n",
      "           ...    \n",
      "10995     524000.0\n",
      "8926      725000.0\n",
      "14333     175000.0\n",
      "3783      850000.0\n",
      "12114    1364570.0\n",
      "Name: price, Length: 2866, dtype: float64 [ 336908.88165439  745303.20460689  309443.47786616 ...  236175.43409446\n",
      "  534899.34507176 1190655.23259412]\n"
     ]
    }
   ],
   "source": [
    "mape_catboost = mean_absolute_percentage_error(y_test, y_pred)\n",
    "print(y_test, y_pred)"
   ]
  },
  {
   "cell_type": "code",
   "execution_count": 102,
   "id": "648e1e4e-31cd-4096-8e94-9bdfb6ad93e6",
   "metadata": {},
   "outputs": [
    {
     "name": "stdout",
     "output_type": "stream",
     "text": [
      "0.8818643861453445\n"
     ]
    }
   ],
   "source": [
    "r2_catboost = r2_score(y_test, y_pred)\n",
    "print(r2_catboost)"
   ]
  },
  {
   "cell_type": "code",
   "execution_count": 103,
   "id": "301aec2f-804b-4054-b2de-2c0f13f6598b",
   "metadata": {},
   "outputs": [
    {
     "name": "stdout",
     "output_type": "stream",
     "text": [
      "0.1710344853779387\n"
     ]
    }
   ],
   "source": [
    "mape_catboost_train = mean_absolute_percentage_error(y_train, y_pred_train)\n",
    "print(mape_catboost_train)"
   ]
  },
  {
   "cell_type": "code",
   "execution_count": 104,
   "id": "1b5f63e4-abea-4283-bc76-620ee978a835",
   "metadata": {},
   "outputs": [
    {
     "name": "stdout",
     "output_type": "stream",
     "text": [
      "0.9318915188703558\n"
     ]
    }
   ],
   "source": [
    "r2_catboost_train = r2_score(y_train, y_pred_train)\n",
    "print(r2_catboost_train)\n"
   ]
  },
  {
   "cell_type": "code",
   "execution_count": 105,
   "id": "aa24975c-3de8-45e3-af01-720d0d45364d",
   "metadata": {},
   "outputs": [
    {
     "ename": "NameError",
     "evalue": "name 'wrap' is not defined",
     "output_type": "error",
     "traceback": [
      "\u001b[1;31m---------------------------------------------------------------------------\u001b[0m",
      "\u001b[1;31mNameError\u001b[0m                                 Traceback (most recent call last)",
      "\u001b[1;32m<ipython-input-105-42b4062a99e2>\u001b[0m in \u001b[0;36m<module>\u001b[1;34m\u001b[0m\n\u001b[1;32m----> 1\u001b[1;33m \u001b[0mwrapped_model\u001b[0m \u001b[1;33m=\u001b[0m \u001b[0mwrap\u001b[0m\u001b[1;33m(\u001b[0m\u001b[0mmodel\u001b[0m\u001b[1;33m)\u001b[0m\u001b[1;33m\u001b[0m\u001b[1;33m\u001b[0m\u001b[0m\n\u001b[0m\u001b[0;32m      2\u001b[0m \u001b[0mvisualizer\u001b[0m \u001b[1;33m=\u001b[0m \u001b[0mResidualsPlot\u001b[0m\u001b[1;33m(\u001b[0m\u001b[0mwrapped_model\u001b[0m\u001b[1;33m)\u001b[0m\u001b[1;33m\u001b[0m\u001b[1;33m\u001b[0m\u001b[0m\n\u001b[0;32m      3\u001b[0m \u001b[1;33m\u001b[0m\u001b[0m\n\u001b[0;32m      4\u001b[0m \u001b[0mvisualizer\u001b[0m\u001b[1;33m.\u001b[0m\u001b[0mfit\u001b[0m\u001b[1;33m(\u001b[0m\u001b[0mX_train_transformed\u001b[0m\u001b[1;33m,\u001b[0m \u001b[0my_train\u001b[0m\u001b[1;33m)\u001b[0m  \u001b[1;31m# Fit the training data to the visualizer\u001b[0m\u001b[1;33m\u001b[0m\u001b[1;33m\u001b[0m\u001b[0m\n\u001b[0;32m      5\u001b[0m \u001b[0mvisualizer\u001b[0m\u001b[1;33m.\u001b[0m\u001b[0mscore\u001b[0m\u001b[1;33m(\u001b[0m\u001b[0mX_test_transformed\u001b[0m\u001b[1;33m,\u001b[0m \u001b[0my_test\u001b[0m\u001b[1;33m)\u001b[0m  \u001b[1;31m# Evaluate the model on the test data\u001b[0m\u001b[1;33m\u001b[0m\u001b[1;33m\u001b[0m\u001b[0m\n",
      "\u001b[1;31mNameError\u001b[0m: name 'wrap' is not defined"
     ]
    }
   ],
   "source": [
    "wrapped_model = wrap(model)\n",
    "visualizer = ResidualsPlot(wrapped_model)\n",
    "\n",
    "visualizer.fit(X_train_transformed, y_train)  # Fit the training data to the visualizer\n",
    "visualizer.score(X_test_transformed, y_test)  # Evaluate the model on the test data\n",
    "visualizer.show()         "
   ]
  },
  {
   "cell_type": "code",
   "execution_count": null,
   "id": "1cd00852-b9fb-44d5-99be-d17e3788dca4",
   "metadata": {},
   "outputs": [],
   "source": []
  }
 ],
 "metadata": {
  "kernelspec": {
   "display_name": "Python 3",
   "language": "python",
   "name": "python3"
  },
  "language_info": {
   "codemirror_mode": {
    "name": "ipython",
    "version": 3
   },
   "file_extension": ".py",
   "mimetype": "text/x-python",
   "name": "python",
   "nbconvert_exporter": "python",
   "pygments_lexer": "ipython3",
   "version": "3.8.8"
  }
 },
 "nbformat": 4,
 "nbformat_minor": 5
}
